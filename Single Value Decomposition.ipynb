{
 "cells": [
  {
   "cell_type": "code",
   "execution_count": 1,
   "id": "39ce9afa",
   "metadata": {},
   "outputs": [],
   "source": [
    "#importing the required libraries\n",
    "import numpy as np\n",
    "import pandas as pd"
   ]
  },
  {
   "cell_type": "code",
   "execution_count": 2,
   "id": "3197ad8b",
   "metadata": {},
   "outputs": [
    {
     "data": {
      "text/html": [
       "<div>\n",
       "<style scoped>\n",
       "    .dataframe tbody tr th:only-of-type {\n",
       "        vertical-align: middle;\n",
       "    }\n",
       "\n",
       "    .dataframe tbody tr th {\n",
       "        vertical-align: top;\n",
       "    }\n",
       "\n",
       "    .dataframe thead th {\n",
       "        text-align: right;\n",
       "    }\n",
       "</style>\n",
       "<table border=\"1\" class=\"dataframe\">\n",
       "  <thead>\n",
       "    <tr style=\"text-align: right;\">\n",
       "      <th></th>\n",
       "      <th>0</th>\n",
       "    </tr>\n",
       "  </thead>\n",
       "  <tbody>\n",
       "    <tr>\n",
       "      <th>0</th>\n",
       "      <td>13.266400</td>\n",
       "    </tr>\n",
       "    <tr>\n",
       "      <th>1</th>\n",
       "      <td>7.310945</td>\n",
       "    </tr>\n",
       "    <tr>\n",
       "      <th>2</th>\n",
       "      <td>4.689716</td>\n",
       "    </tr>\n",
       "    <tr>\n",
       "      <th>3</th>\n",
       "      <td>0.890135</td>\n",
       "    </tr>\n",
       "    <tr>\n",
       "      <th>4</th>\n",
       "      <td>0.516667</td>\n",
       "    </tr>\n",
       "  </tbody>\n",
       "</table>\n",
       "</div>"
      ],
      "text/plain": [
       "           0\n",
       "0  13.266400\n",
       "1   7.310945\n",
       "2   4.689716\n",
       "3   0.890135\n",
       "4   0.516667"
      ]
     },
     "execution_count": 2,
     "metadata": {},
     "output_type": "execute_result"
    }
   ],
   "source": [
    "#load the array into a variable and converting them to a dataframe\n",
    "arr = np.load('S_new.npy')\n",
    "data_f = pd.DataFrame(arr)\n",
    "data_f.head()"
   ]
  },
  {
   "cell_type": "code",
   "execution_count": 3,
   "id": "2f6b009a",
   "metadata": {},
   "outputs": [
    {
     "data": {
      "text/html": [
       "<div>\n",
       "<style scoped>\n",
       "    .dataframe tbody tr th:only-of-type {\n",
       "        vertical-align: middle;\n",
       "    }\n",
       "\n",
       "    .dataframe tbody tr th {\n",
       "        vertical-align: top;\n",
       "    }\n",
       "\n",
       "    .dataframe thead th {\n",
       "        text-align: right;\n",
       "    }\n",
       "</style>\n",
       "<table border=\"1\" class=\"dataframe\">\n",
       "  <thead>\n",
       "    <tr style=\"text-align: right;\">\n",
       "      <th></th>\n",
       "      <th>0</th>\n",
       "      <th>1</th>\n",
       "      <th>2</th>\n",
       "      <th>3</th>\n",
       "      <th>4</th>\n",
       "    </tr>\n",
       "  </thead>\n",
       "  <tbody>\n",
       "    <tr>\n",
       "      <th>0</th>\n",
       "      <td>-0.423445</td>\n",
       "      <td>0.556656</td>\n",
       "      <td>-0.241025</td>\n",
       "      <td>0.330546</td>\n",
       "      <td>-0.245622</td>\n",
       "    </tr>\n",
       "    <tr>\n",
       "      <th>1</th>\n",
       "      <td>-0.506993</td>\n",
       "      <td>-0.477910</td>\n",
       "      <td>-0.164953</td>\n",
       "      <td>0.379532</td>\n",
       "      <td>0.583310</td>\n",
       "    </tr>\n",
       "    <tr>\n",
       "      <th>2</th>\n",
       "      <td>-0.373355</td>\n",
       "      <td>0.506098</td>\n",
       "      <td>-0.191829</td>\n",
       "      <td>-0.473431</td>\n",
       "      <td>0.385749</td>\n",
       "    </tr>\n",
       "    <tr>\n",
       "      <th>3</th>\n",
       "      <td>-0.344477</td>\n",
       "      <td>0.128204</td>\n",
       "      <td>0.633886</td>\n",
       "      <td>0.412236</td>\n",
       "      <td>-0.237219</td>\n",
       "    </tr>\n",
       "    <tr>\n",
       "      <th>4</th>\n",
       "      <td>-0.424225</td>\n",
       "      <td>-0.407911</td>\n",
       "      <td>-0.386011</td>\n",
       "      <td>-0.252589</td>\n",
       "      <td>-0.627057</td>\n",
       "    </tr>\n",
       "  </tbody>\n",
       "</table>\n",
       "</div>"
      ],
      "text/plain": [
       "          0         1         2         3         4\n",
       "0 -0.423445  0.556656 -0.241025  0.330546 -0.245622\n",
       "1 -0.506993 -0.477910 -0.164953  0.379532  0.583310\n",
       "2 -0.373355  0.506098 -0.191829 -0.473431  0.385749\n",
       "3 -0.344477  0.128204  0.633886  0.412236 -0.237219\n",
       "4 -0.424225 -0.407911 -0.386011 -0.252589 -0.627057"
      ]
     },
     "execution_count": 3,
     "metadata": {},
     "output_type": "execute_result"
    }
   ],
   "source": [
    "#load the array into a variable and converting them to a dataframe\n",
    "arr1 = np.load('U_new.npy')\n",
    "data1_f = pd.DataFrame(arr1)\n",
    "data1_f.head()"
   ]
  },
  {
   "cell_type": "code",
   "execution_count": 4,
   "id": "368fd228",
   "metadata": {},
   "outputs": [
    {
     "data": {
      "text/html": [
       "<div>\n",
       "<style scoped>\n",
       "    .dataframe tbody tr th:only-of-type {\n",
       "        vertical-align: middle;\n",
       "    }\n",
       "\n",
       "    .dataframe tbody tr th {\n",
       "        vertical-align: top;\n",
       "    }\n",
       "\n",
       "    .dataframe thead th {\n",
       "        text-align: right;\n",
       "    }\n",
       "</style>\n",
       "<table border=\"1\" class=\"dataframe\">\n",
       "  <thead>\n",
       "    <tr style=\"text-align: right;\">\n",
       "      <th></th>\n",
       "      <th>0</th>\n",
       "      <th>1</th>\n",
       "      <th>2</th>\n",
       "      <th>3</th>\n",
       "      <th>4</th>\n",
       "    </tr>\n",
       "  </thead>\n",
       "  <tbody>\n",
       "    <tr>\n",
       "      <th>0</th>\n",
       "      <td>-0.433991</td>\n",
       "      <td>-0.406137</td>\n",
       "      <td>-0.424654</td>\n",
       "      <td>-0.461054</td>\n",
       "      <td>-0.503789</td>\n",
       "    </tr>\n",
       "    <tr>\n",
       "      <th>1</th>\n",
       "      <td>0.559634</td>\n",
       "      <td>0.538641</td>\n",
       "      <td>-0.087827</td>\n",
       "      <td>-0.380015</td>\n",
       "      <td>-0.494521</td>\n",
       "    </tr>\n",
       "    <tr>\n",
       "      <th>2</th>\n",
       "      <td>-0.078209</td>\n",
       "      <td>-0.208129</td>\n",
       "      <td>0.894477</td>\n",
       "      <td>-0.305012</td>\n",
       "      <td>-0.239675</td>\n",
       "    </tr>\n",
       "    <tr>\n",
       "      <th>3</th>\n",
       "      <td>0.425915</td>\n",
       "      <td>-0.488806</td>\n",
       "      <td>-0.011195</td>\n",
       "      <td>0.579464</td>\n",
       "      <td>-0.493722</td>\n",
       "    </tr>\n",
       "    <tr>\n",
       "      <th>4</th>\n",
       "      <td>-0.557621</td>\n",
       "      <td>0.512514</td>\n",
       "      <td>0.108355</td>\n",
       "      <td>0.462824</td>\n",
       "      <td>-0.447705</td>\n",
       "    </tr>\n",
       "  </tbody>\n",
       "</table>\n",
       "</div>"
      ],
      "text/plain": [
       "          0         1         2         3         4\n",
       "0 -0.433991 -0.406137 -0.424654 -0.461054 -0.503789\n",
       "1  0.559634  0.538641 -0.087827 -0.380015 -0.494521\n",
       "2 -0.078209 -0.208129  0.894477 -0.305012 -0.239675\n",
       "3  0.425915 -0.488806 -0.011195  0.579464 -0.493722\n",
       "4 -0.557621  0.512514  0.108355  0.462824 -0.447705"
      ]
     },
     "execution_count": 4,
     "metadata": {},
     "output_type": "execute_result"
    }
   ],
   "source": [
    "#load the array into a variable and converting them to a dataframe\n",
    "arr2 = np.load('V_transpose_new.npy')\n",
    "data2_f = pd.DataFrame(arr2)\n",
    "data2_f.head()"
   ]
  },
  {
   "cell_type": "code",
   "execution_count": 5,
   "id": "27e37f96",
   "metadata": {},
   "outputs": [],
   "source": [
    "# read in the U, S, V arrays from disk\n",
    "U = np.load('U_new.npy')\n",
    "S = np.load('S_new.npy')\n",
    "V = np.load('V_transpose_new.npy')"
   ]
  },
  {
   "cell_type": "code",
   "execution_count": 6,
   "id": "6be602e7",
   "metadata": {},
   "outputs": [
    {
     "data": {
      "text/plain": [
       "array([[-0.42344517,  0.55665609, -0.24102467,  0.3305458 , -0.24562245],\n",
       "       [-0.50699337, -0.47790996, -0.16495257,  0.37953185,  0.58331032],\n",
       "       [-0.37335489,  0.50609813, -0.19182881, -0.4734306 ,  0.385749  ],\n",
       "       [-0.34447683,  0.12820357,  0.63388605,  0.41223622, -0.23721861],\n",
       "       [-0.42422527, -0.40791144, -0.38601146, -0.2525886 , -0.62705737],\n",
       "       [-0.35443853, -0.15090679,  0.57191179, -0.53741866,  0.033805  ]])"
      ]
     },
     "execution_count": 6,
     "metadata": {},
     "output_type": "execute_result"
    }
   ],
   "source": [
    "U"
   ]
  },
  {
   "cell_type": "code",
   "execution_count": 7,
   "id": "6d84d646",
   "metadata": {},
   "outputs": [
    {
     "data": {
      "text/plain": [
       "array([13.2663997 ,  7.31094493,  4.68971622,  0.89013458,  0.51666749])"
      ]
     },
     "execution_count": 7,
     "metadata": {},
     "output_type": "execute_result"
    }
   ],
   "source": [
    "S"
   ]
  },
  {
   "cell_type": "code",
   "execution_count": 8,
   "id": "a91c726a",
   "metadata": {},
   "outputs": [
    {
     "data": {
      "text/plain": [
       "array([[-0.43399074, -0.40613677, -0.42465386, -0.46105389, -0.50378901],\n",
       "       [ 0.55963405,  0.53864051, -0.08782676, -0.38001516, -0.49452105],\n",
       "       [-0.07820851, -0.20812855,  0.89447713, -0.30501222, -0.23967508],\n",
       "       [ 0.42591506, -0.48880552, -0.01119466,  0.57946426, -0.49372196],\n",
       "       [-0.55762134,  0.51251438,  0.10835544,  0.46282448, -0.44770531]])"
      ]
     },
     "execution_count": 8,
     "metadata": {},
     "output_type": "execute_result"
    }
   ],
   "source": [
    "V"
   ]
  },
  {
   "cell_type": "code",
   "execution_count": 9,
   "id": "843adb35",
   "metadata": {},
   "outputs": [
    {
     "data": {
      "text/plain": [
       "array([[-5.75749462, -5.38797273, -5.63362784, -6.11652519, -6.68346637],\n",
       "       [ 4.09145372,  3.93797111, -0.64209661, -2.77826991, -3.61541616],\n",
       "       [-0.36677572, -0.97606384,  4.19484391, -1.43042076, -1.12400811],\n",
       "       [ 0.37912172, -0.43510269, -0.00996475,  0.51580117, -0.43947899],\n",
       "       [-0.28810482,  0.26479952,  0.05598373,  0.23912636, -0.23131478]])"
      ]
     },
     "execution_count": 9,
     "metadata": {},
     "output_type": "execute_result"
    }
   ],
   "source": [
    "A = np.matmul(np.diag(S),V)\n",
    "A"
   ]
  },
  {
   "cell_type": "code",
   "execution_count": 10,
   "id": "d72dd377",
   "metadata": {},
   "outputs": [
    {
     "data": {
      "text/plain": [
       "array([[5.00000001, 4.5       , 0.99999997, 1.49999999, 0.99999999],\n",
       "       [0.99999998, 1.00000004, 2.5       , 4.99999999, 4.99999997],\n",
       "       [4.00000001, 4.5       , 0.99999997, 0.99999999, 0.99999999],\n",
       "       [2.5       , 1.50000002, 4.49999998, 1.        , 0.99999998],\n",
       "       [0.99999998, 1.00000003, 1.        , 4.        , 4.99999998],\n",
       "       [0.99999999, 1.00000002, 4.49999999, 1.5       , 2.49999998]])"
      ]
     },
     "execution_count": 10,
     "metadata": {},
     "output_type": "execute_result"
    }
   ],
   "source": [
    "B = np.matmul(U,A)\n",
    "B"
   ]
  },
  {
   "cell_type": "code",
   "execution_count": 11,
   "id": "1640a7be",
   "metadata": {},
   "outputs": [],
   "source": [
    "# Found the complete rating matrix\n",
    "rating_matrix = B"
   ]
  },
  {
   "cell_type": "code",
   "execution_count": 12,
   "id": "3d0c245c",
   "metadata": {},
   "outputs": [
    {
     "data": {
      "text/plain": [
       "array([[5.00000001, 4.5       , 0.99999997, 1.49999999, 0.99999999],\n",
       "       [0.99999998, 1.00000004, 2.5       , 4.99999999, 4.99999997],\n",
       "       [4.00000001, 4.5       , 0.99999997, 0.99999999, 0.99999999],\n",
       "       [2.5       , 1.50000002, 4.49999998, 1.        , 0.99999998],\n",
       "       [0.99999998, 1.00000003, 1.        , 4.        , 4.99999998],\n",
       "       [0.99999999, 1.00000002, 4.49999999, 1.5       , 2.49999998]])"
      ]
     },
     "execution_count": 12,
     "metadata": {},
     "output_type": "execute_result"
    }
   ],
   "source": [
    "rating_matrix"
   ]
  },
  {
   "cell_type": "code",
   "execution_count": 13,
   "id": "b4ae5305",
   "metadata": {},
   "outputs": [
    {
     "data": {
      "text/plain": [
       "1.4999999898595036"
      ]
     },
     "execution_count": 13,
     "metadata": {},
     "output_type": "execute_result"
    }
   ],
   "source": [
    "# (1 point) a) What is U1’s ‘estimated’ rating of the movie Amelie?\n",
    "rating_matrix[0][3]"
   ]
  },
  {
   "cell_type": "code",
   "execution_count": 14,
   "id": "cb01f408",
   "metadata": {},
   "outputs": [
    {
     "data": {
      "text/plain": [
       "13.266399703684902"
      ]
     },
     "execution_count": 14,
     "metadata": {},
     "output_type": "execute_result"
    }
   ],
   "source": [
    "#(2 point) b) What is the strength of concept 1 in the SVD decomposition?\n",
    "S[0]"
   ]
  },
  {
   "cell_type": "code",
   "execution_count": 15,
   "id": "34658487",
   "metadata": {},
   "outputs": [
    {
     "name": "stdout",
     "output_type": "stream",
     "text": [
      "Average Rating for Harrypotter Movie is  2.42\n"
     ]
    }
   ],
   "source": [
    "#(1 point) c) What is the average rating for movie Harry Potter across all users in the system (i.e., if actual\n",
    "#ratings exist, use them if not use estimated ratings)?\n",
    "a = sum(rating_matrix[:,2])/len(rating_matrix[:,2])\n",
    "print(\"Average Rating for Harrypotter Movie is \",round(a,2))"
   ]
  },
  {
   "cell_type": "code",
   "execution_count": 16,
   "id": "0f292c76",
   "metadata": {},
   "outputs": [
    {
     "data": {
      "text/plain": [
       "4"
      ]
     },
     "execution_count": 16,
     "metadata": {},
     "output_type": "execute_result"
    }
   ],
   "source": [
    "# (1 point) d) What is the movie with the overall highest rating (i.e., if actual ratings exist, use them if not\n",
    "#use estimated ratings)?\n",
    "a = np.nanargmax(np.nanmean(rating_matrix, axis=0))\n",
    "a"
   ]
  },
  {
   "cell_type": "code",
   "execution_count": 17,
   "id": "a6d73830",
   "metadata": {},
   "outputs": [],
   "source": [
    "#Therefore, the movie at index 4 is Casablanca which is the hightest rated movie"
   ]
  }
 ],
 "metadata": {
  "kernelspec": {
   "display_name": "Python 3 (ipykernel)",
   "language": "python",
   "name": "python3"
  },
  "language_info": {
   "codemirror_mode": {
    "name": "ipython",
    "version": 3
   },
   "file_extension": ".py",
   "mimetype": "text/x-python",
   "name": "python",
   "nbconvert_exporter": "python",
   "pygments_lexer": "ipython3",
   "version": "3.11.4"
  }
 },
 "nbformat": 4,
 "nbformat_minor": 5
}
