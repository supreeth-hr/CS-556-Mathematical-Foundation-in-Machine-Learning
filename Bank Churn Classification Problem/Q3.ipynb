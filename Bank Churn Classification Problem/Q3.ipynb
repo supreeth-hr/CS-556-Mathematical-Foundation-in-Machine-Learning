{
 "cells": [
  {
   "cell_type": "markdown",
   "id": "089a825b",
   "metadata": {},
   "source": [
    "# Q3. Bank Churn Classification Problem\n",
    "## Dataset Description:\n",
    "Banking is one of those traditional industries that has gone through a steady transformation over the past few decades. Yet, many banks today with a sizeable customer base are hoping to gain a competitive edge but have not tapped into the vast amounts of data they have, especially in solving one of the most acknowledged problems – customer churn (i.e., a customer leaving the bank). It is advantageous to banks to know what leads a client to leave the bank. Banks often use the customer churn rate as one of their key business metrics because the cost of retaining existing customers is far less than acquiring new ones, and meanwhile increasing customer retention can greatly increase profits.  \n",
    "Churn prevention allows companies to develop different programs such as loyalty and retention programs to keep as many customers as possible. Following are the attributes of the dataset we will be working with. \n",
    " \n",
    "\n",
    "- RowNumber (continuous) — corresponds to the record (row) number and has no effect on the output. \n",
    " \n",
    "\n",
    "- CustomerId  (categorical)— contains random values and has no effect on customer leaving the bank. \n",
    " \n",
    "\n",
    "- Surname  (categorical)— the surname of a customer has no impact on their decision to leave the bank \n",
    " \n",
    "\n",
    "- CreditScore  (continuous) — can influence customer churn, since a customer with a higher credit score is less likely to leave the bank. \n",
    " \n",
    "\n",
    "- Geography (categorical) — a customer’s location can affect their decision to leave the bank. \n",
    " \n",
    "\n",
    "- Gender (categorical) — it’s interesting to explore whether gender plays a role in a customer leaving the bank. \n",
    " \n",
    "\n",
    "- Age (continuous) — this is certainly relevant, since older customers are less likely to leave their bank than younger ones. \n",
    " \n",
    "\n",
    "- Tenure (continuous) — refers to the number of years that the customer has been a client of the bank. Normally, older clients are more loyal and less likely to leave a bank. \n",
    " \n",
    "\n",
    "- Balance (continuous) — also a very good indicator of customer churn, as people with a higher balance in their accounts are less likely to leave the bank compared to those with lower balances. \n",
    " \n",
    "\n",
    "- NumOfProducts (continuous) — refers to the number of products that a customer has purchased through the bank. \n",
    " \n",
    "\n",
    "- HasCrCard (categorical) — denotes whether a customer has a credit card. This column is also relevant since people with a credit card are less likely to leave the bank. \n",
    " \n",
    "\n",
    "- IsActiveMember (categorical) — active customers are less likely to leave the bank. \n",
    " \n",
    "\n",
    "- EstimatedSalary (continuous) — as with balance, people with lower salaries are more likely to leave the bank compared to those with higher salaries. \n",
    " \n",
    "\n",
    "- Exited (Categorical) — whether or not the customer left the bank. (Target variable) "
   ]
  },
  {
   "cell_type": "markdown",
   "id": "268a4322",
   "metadata": {},
   "source": [
    "# Import all the necessary libraries"
   ]
  },
  {
   "cell_type": "code",
   "execution_count": 1,
   "id": "69b45d04",
   "metadata": {
    "tags": []
   },
   "outputs": [],
   "source": [
    "#Importing Libraries\n",
    "import pandas as pd\n",
    "import numpy as np\n",
    "import matplotlib.pyplot as plt\n",
    "\n",
    "#Classifier Libraries\n",
    "from sklearn.linear_model import LogisticRegression\n",
    "from sklearn.svm import SVC\n",
    "\n",
    "#Scaling & splitting Libraries\n",
    "from sklearn.preprocessing import MinMaxScaler\n",
    "from sklearn.model_selection import train_test_split\n",
    "from sklearn.model_selection import GridSearchCV\n",
    "\n",
    "# Sampling library\n",
    "from imblearn.over_sampling import SMOTE\n",
    "\n",
    "#Evaluation Libraries\n",
    "from sklearn.metrics import accuracy_score\n",
    "from sklearn.metrics import classification_report"
   ]
  },
  {
   "cell_type": "markdown",
   "id": "7b7cc412",
   "metadata": {},
   "source": [
    "### b.\tData Loading / Preprocessing\n",
    "#### i.\tLoading\n",
    "1. Load the data <BankChurn.csv> as a pandas dataframe using the `pd.read_csv()` function which returns a dataframe , store this value in a variable named ‘df’."
   ]
  },
  {
   "cell_type": "code",
   "execution_count": 2,
   "id": "beb570e4",
   "metadata": {},
   "outputs": [
    {
     "data": {
      "text/plain": [
       "(10000, 14)"
      ]
     },
     "execution_count": 2,
     "metadata": {},
     "output_type": "execute_result"
    }
   ],
   "source": [
    "df = pd.read_csv(\"churn.csv\")\n",
    "df.shape"
   ]
  },
  {
   "cell_type": "markdown",
   "id": "c024de29",
   "metadata": {},
   "source": [
    "2. The resulting dataframe should have the shape (10000,14) indicating that there are 10000 instances and 14 columns. "
   ]
  },
  {
   "cell_type": "markdown",
   "id": "97260c2d",
   "metadata": {},
   "source": [
    "3. In this dataframe, currently you have 9 features which are the following: RowNumber, CustomerID, Surname, CreditScore, Geography, Gender, Age, Tenure, Balance, NumOfProducts, HasCrCard, IsActiveMember, EstimatedSalary. Using the ‘pandas.dataframe.drop’ function to drop the RowNumber, CustomerID and Surname columns."
   ]
  },
  {
   "cell_type": "code",
   "execution_count": 3,
   "id": "bd1e2c94",
   "metadata": {},
   "outputs": [],
   "source": [
    "df = df.drop(['RowNumber','CustomerId','Surname'],axis=1)"
   ]
  },
  {
   "cell_type": "markdown",
   "id": "9f6ea1c2",
   "metadata": {},
   "source": [
    "4. Using the ‘pandas.isnull()’ function check if there are any missing values in the dataframe and report this value (i.e., the number of missing values per column of the dataframe)."
   ]
  },
  {
   "cell_type": "code",
   "execution_count": 4,
   "id": "9e42f66c",
   "metadata": {},
   "outputs": [
    {
     "data": {
      "text/plain": [
       "CreditScore        0\n",
       "Geography          0\n",
       "Gender             0\n",
       "Age                0\n",
       "Tenure             0\n",
       "Balance            0\n",
       "NumOfProducts      0\n",
       "HasCrCard          0\n",
       "IsActiveMember     0\n",
       "EstimatedSalary    0\n",
       "Exited             0\n",
       "dtype: int64"
      ]
     },
     "execution_count": 4,
     "metadata": {},
     "output_type": "execute_result"
    }
   ],
   "source": [
    "df.isnull().sum()"
   ]
  },
  {
   "cell_type": "markdown",
   "id": "26d315ee",
   "metadata": {},
   "source": [
    "5. Your task is to use feature columns to predict the target column (which is categorical in our case). This can be cast as a classification problem. "
   ]
  },
  {
   "cell_type": "markdown",
   "id": "5de148fe",
   "metadata": {},
   "source": [
    "6. Create a dataframe X of features (by dropping the ‘Exited’ column from the original dataframe). Create a Pandas Series object of targets Y (by only considering the ‘Exited’ column from the original dataframe). Moving forward, we will be working with X and Y."
   ]
  },
  {
   "cell_type": "code",
   "execution_count": 5,
   "id": "33aff754",
   "metadata": {},
   "outputs": [],
   "source": [
    "X = df.drop(['Exited'],axis=1)\n",
    "Y = df['Exited']"
   ]
  },
  {
   "cell_type": "markdown",
   "id": "1ed0acb0",
   "metadata": {},
   "source": [
    "### ii. Data Visualisation\n",
    "1. Visualize the distribution of the ‘Age’ and ‘CreditScore’ column using the ‘matplotlib.pyplot.hist’ function as two separate plots. Label the x-axis and the y-axis along with giving the plot a title and assign a bin size of 7.\n",
    "\n",
    "- What are the respective mean values of these two features (use the pandas.DataFrame.mean() function)?\n",
    "- What is the respective standard deviation of these two features (use the pandas.DataFrame.std() function)? "
   ]
  },
  {
   "cell_type": "code",
   "execution_count": 6,
   "id": "fd629fcf",
   "metadata": {
    "scrolled": true
   },
   "outputs": [
    {
     "data": {
      "text/plain": [
       "Text(0.5, 1.0, 'Histogram for Age Column')"
      ]
     },
     "execution_count": 6,
     "metadata": {},
     "output_type": "execute_result"
    },
    {
     "data": {
      "image/png": "[encoded data removed]",
      "text/plain": [
       "<Figure size 640x480 with 1 Axes>"
      ]
     },
     "metadata": {},
     "output_type": "display_data"
    }
   ],
   "source": [
    "data_age = df['Age']\n",
    "data_cs = df['CreditScore']\n",
    "plt.hist(data_age, bins=7, color='orange', edgecolor='black')\n",
    "plt.xlabel('Age')\n",
    "plt.ylabel('Frequency')\n",
    "plt.title('Histogram for Age Column')"
   ]
  },
  {
   "cell_type": "code",
   "execution_count": 7,
   "id": "29018383",
   "metadata": {
    "scrolled": true
   },
   "outputs": [
    {
     "data": {
      "text/plain": [
       "Text(0.5, 1.0, 'Histogram for Credit Score Column')"
      ]
     },
     "execution_count": 7,
     "metadata": {},
     "output_type": "execute_result"
    },
    {
     "data": {
      "image/png": "[encoded data removed]",
      "text/plain": [
       "<Figure size 640x480 with 1 Axes>"
      ]
     },
     "metadata": {},
     "output_type": "display_data"
    }
   ],
   "source": [
    "plt.hist(data_cs, bins=7, color='orange', edgecolor='black')\n",
    "plt.xlabel('Credit Score')\n",
    "plt.ylabel('Frequency')\n",
    "plt.title('Histogram for Credit Score Column')"
   ]
  },
  {
   "cell_type": "code",
   "execution_count": 8,
   "id": "024f1d53",
   "metadata": {},
   "outputs": [
    {
     "name": "stdout",
     "output_type": "stream",
     "text": [
      "The mean of the age feature: 38.9218\n",
      "The mean of the Creditscore feature: 650.5288\n"
     ]
    }
   ],
   "source": [
    "#What are the respective mean values of these two features (use the pandas.DataFrame.mean() function)?\n",
    "# For Age\n",
    "mean_age = df['Age'].mean()\n",
    "# For Credit Score\n",
    "mean_creditscore = df['CreditScore'].mean()\n",
    "print(\"The mean of the age feature:\", mean_age)\n",
    "print(\"The mean of the Creditscore feature:\", mean_creditscore)"
   ]
  },
  {
   "cell_type": "code",
   "execution_count": 9,
   "id": "f40fcaf1",
   "metadata": {},
   "outputs": [
    {
     "name": "stdout",
     "output_type": "stream",
     "text": [
      "The standard deviation of the age feature: 10.487806451704591\n",
      "The standard deviation of the Creditscore feature: 96.65329873613061\n"
     ]
    }
   ],
   "source": [
    "#What is the respective standard deviation of these two features (use the pandas.DataFrame.std() function)?\n",
    "#For Age\n",
    "sd_age = df['Age'].std()\n",
    "#For Credit Score\n",
    "sd_creditscore = df['CreditScore'].std()\n",
    "print(\"The standard deviation of the age feature:\", sd_age)\n",
    "print(\"The standard deviation of the Creditscore feature:\", sd_creditscore)"
   ]
  },
  {
   "cell_type": "markdown",
   "id": "47b86ad8",
   "metadata": {},
   "source": [
    "2. Only for this question use the dataframe consisting of the target variable (initialized as ‘df’). Using matplotlib visualize the number of males and females in each country who are active members and not active members. (Visualize this using a barchart. You will need to use the ‘Gender’, ‘Geography’ and ‘IsActiveMember’ features for this question). Visualize these graphs on two separate plots with respect to their active status. To create a barchart using matplotlib use the ‘matplotlib.pyplot.bar()’ function. Also label the x-axis, y-axis and give the plots a title. \n",
    "\n",
    "- How many males are from France and are active members?\n",
    "- How many females are from Spain and are active members?\n",
    "- How many males are from France or Germany who are not active members?"
   ]
  },
  {
   "cell_type": "code",
   "execution_count": 10,
   "id": "0fcb2554",
   "metadata": {},
   "outputs": [
    {
     "data": {
      "text/plain": [
       "<matplotlib.legend.Legend at 0x277601551d0>"
      ]
     },
     "execution_count": 10,
     "metadata": {},
     "output_type": "execute_result"
    },
    {
     "data": {
      "image/png": "[encoded data removed]",
      "text/plain": [
       "<Figure size 1000x1500 with 2 Axes>"
      ]
     },
     "metadata": {},
     "output_type": "display_data"
    }
   ],
   "source": [
    "male_df = df[df['Gender'] == 'Male']\n",
    "active_male = male_df[male_df['IsActiveMember'] == 1]['Geography'].value_counts()\n",
    "inactive_male = male_df[male_df['IsActiveMember'] == 0]['Geography'].value_counts()\n",
    "\n",
    "female_df = df[df['Gender'] == 'Female']\n",
    "active_female = female_df[female_df['IsActiveMember'] == 1]['Geography'].value_counts()\n",
    "inactive_female = female_df[female_df['IsActiveMember'] == 0]['Geography'].value_counts()\n",
    "\n",
    "fig, axis = plt.subplots(2, 1, figsize=(10, 15))\n",
    "\n",
    "axis[0].bar(active_male.index,active_male.values,color='blue',label='Male')\n",
    "axis[0].bar(active_female.index,inactive_female.values,color='red',label='Female')\n",
    "axis[0].set_xlabel('Country')\n",
    "axis[0].set_ylabel('Number of Active Members')\n",
    "axis[0].set_title('Active Members by Gender and Country')\n",
    "axis[0].legend()\n",
    "\n",
    "axis[1].bar(inactive_male.index,inactive_male.values,color='blue',label='Male')\n",
    "axis[1].bar(inactive_female.index,inactive_female.values,color='red',label='Female')\n",
    "axis[1].set_xlabel('Country')\n",
    "axis[1].set_ylabel('Number of Inctive Members')\n",
    "axis[1].set_title('Inactive Members by Gender and Country')\n",
    "axis[1].legend()"
   ]
  },
  {
   "cell_type": "markdown",
   "id": "5316b3bf",
   "metadata": {},
   "source": [
    "3. Using the target variable in Y plot a bar chart showing the distribution of the ‘Exited’ column (To create a barchart using matplotlib use the ‘matplotlib.pyplot.bar()’ function). \n",
    "\n",
    "- What can be said about this distribution (specifically keeping in mind this distribution represents the target variable) will this have an impact on the results of the classification model? "
   ]
  },
  {
   "cell_type": "code",
   "execution_count": 11,
   "id": "ba05821c",
   "metadata": {},
   "outputs": [
    {
     "data": {
      "text/plain": [
       "Text(0, 0.5, 'Values')"
      ]
     },
     "execution_count": 11,
     "metadata": {},
     "output_type": "execute_result"
    },
    {
     "data": {
      "image/png": "[encoded data removed]",
      "text/plain": [
       "<Figure size 640x480 with 1 Axes>"
      ]
     },
     "metadata": {},
     "output_type": "display_data"
    }
   ],
   "source": [
    "bar_chart = Y.value_counts()\n",
    "plt.bar([0,1],bar_chart)\n",
    "plt.xticks([0, 1], ['Not Exited', 'Exited'])\n",
    "plt.xlabel('Target')\n",
    "plt.ylabel('Values')"
   ]
  },
  {
   "cell_type": "markdown",
   "id": "a466cd5d",
   "metadata": {},
   "source": [
    "4. So far you should have successfully been able to load, preprocess and visualize your data. Now, use the ‘pd.get_dummies()’ function to convert categorical data into dummy variables (‘Gender’ and ‘Geography’).\n",
    "**(Perform this only on X)**. \n",
    "\n",
    "- What is the shape of X?"
   ]
  },
  {
   "cell_type": "code",
   "execution_count": 12,
   "id": "1ff65f66",
   "metadata": {},
   "outputs": [],
   "source": [
    "X = pd.get_dummies(X,columns=['Gender','Geography'])"
   ]
  },
  {
   "cell_type": "code",
   "execution_count": 13,
   "id": "512e7cbf",
   "metadata": {},
   "outputs": [
    {
     "data": {
      "text/plain": [
       "(10000, 13)"
      ]
     },
     "execution_count": 13,
     "metadata": {},
     "output_type": "execute_result"
    }
   ],
   "source": [
    "X.shape"
   ]
  },
  {
   "cell_type": "markdown",
   "id": "70122b33",
   "metadata": {},
   "source": [
    "### iii. Data Splitting\n",
    "1. Split data into training and test sets using the sklearn ‘train_test_split() function in a **80:20** ratio. The result of your data split should be X_train, X_test, y_train, y_test. (Respectively your training features, testing features, training targets and testing target arrays)."
   ]
  },
  {
   "cell_type": "code",
   "execution_count": 14,
   "id": "d0117349",
   "metadata": {},
   "outputs": [],
   "source": [
    "X_train,X_test,y_train,y_test = train_test_split(X,Y,test_size = 0.2)"
   ]
  },
  {
   "cell_type": "markdown",
   "id": "273dcd1e",
   "metadata": {},
   "source": [
    "### iv. Data Scaling\n",
    "1. Employ the ‘MinMaxScaler’  function on the continuous attributes in X_train. Employ the ‘fit_transform()’ function of the scaler to retrieve the new (scaled) version of the training data (i.e., fit_transform() should be run on `X_train`). Store the result in X_train again. \n"
   ]
  },
  {
   "cell_type": "code",
   "execution_count": 15,
   "id": "a409aa2d",
   "metadata": {},
   "outputs": [
    {
     "data": {
      "text/html": [
       "<div>\n",
       "<style scoped>\n",
       "    .dataframe tbody tr th:only-of-type {\n",
       "        vertical-align: middle;\n",
       "    }\n",
       "\n",
       "    .dataframe tbody tr th {\n",
       "        vertical-align: top;\n",
       "    }\n",
       "\n",
       "    .dataframe thead th {\n",
       "        text-align: right;\n",
       "    }\n",
       "</style>\n",
       "<table border=\"1\" class=\"dataframe\">\n",
       "  <thead>\n",
       "    <tr style=\"text-align: right;\">\n",
       "      <th></th>\n",
       "      <th>CreditScore</th>\n",
       "      <th>Age</th>\n",
       "      <th>Tenure</th>\n",
       "      <th>Balance</th>\n",
       "      <th>NumOfProducts</th>\n",
       "      <th>HasCrCard</th>\n",
       "      <th>IsActiveMember</th>\n",
       "      <th>EstimatedSalary</th>\n",
       "      <th>Gender_Female</th>\n",
       "      <th>Gender_Male</th>\n",
       "      <th>Geography_France</th>\n",
       "      <th>Geography_Germany</th>\n",
       "      <th>Geography_Spain</th>\n",
       "    </tr>\n",
       "  </thead>\n",
       "  <tbody>\n",
       "    <tr>\n",
       "      <th>7450</th>\n",
       "      <td>0.724</td>\n",
       "      <td>0.283784</td>\n",
       "      <td>0.5</td>\n",
       "      <td>0.650055</td>\n",
       "      <td>0.333333</td>\n",
       "      <td>1</td>\n",
       "      <td>1</td>\n",
       "      <td>0.118466</td>\n",
       "      <td>1</td>\n",
       "      <td>0</td>\n",
       "      <td>0</td>\n",
       "      <td>0</td>\n",
       "      <td>1</td>\n",
       "    </tr>\n",
       "    <tr>\n",
       "      <th>6975</th>\n",
       "      <td>0.412</td>\n",
       "      <td>0.270270</td>\n",
       "      <td>0.2</td>\n",
       "      <td>0.460199</td>\n",
       "      <td>0.000000</td>\n",
       "      <td>1</td>\n",
       "      <td>0</td>\n",
       "      <td>0.753412</td>\n",
       "      <td>0</td>\n",
       "      <td>1</td>\n",
       "      <td>0</td>\n",
       "      <td>0</td>\n",
       "      <td>1</td>\n",
       "    </tr>\n",
       "    <tr>\n",
       "      <th>3416</th>\n",
       "      <td>0.364</td>\n",
       "      <td>0.270270</td>\n",
       "      <td>0.9</td>\n",
       "      <td>0.000000</td>\n",
       "      <td>0.333333</td>\n",
       "      <td>0</td>\n",
       "      <td>0</td>\n",
       "      <td>0.152876</td>\n",
       "      <td>0</td>\n",
       "      <td>1</td>\n",
       "      <td>1</td>\n",
       "      <td>0</td>\n",
       "      <td>0</td>\n",
       "    </tr>\n",
       "    <tr>\n",
       "      <th>3718</th>\n",
       "      <td>0.436</td>\n",
       "      <td>0.162162</td>\n",
       "      <td>0.8</td>\n",
       "      <td>0.291171</td>\n",
       "      <td>0.333333</td>\n",
       "      <td>1</td>\n",
       "      <td>1</td>\n",
       "      <td>0.135015</td>\n",
       "      <td>0</td>\n",
       "      <td>1</td>\n",
       "      <td>1</td>\n",
       "      <td>0</td>\n",
       "      <td>0</td>\n",
       "    </tr>\n",
       "    <tr>\n",
       "      <th>5945</th>\n",
       "      <td>0.732</td>\n",
       "      <td>0.297297</td>\n",
       "      <td>0.3</td>\n",
       "      <td>0.000000</td>\n",
       "      <td>0.333333</td>\n",
       "      <td>0</td>\n",
       "      <td>1</td>\n",
       "      <td>0.838203</td>\n",
       "      <td>1</td>\n",
       "      <td>0</td>\n",
       "      <td>1</td>\n",
       "      <td>0</td>\n",
       "      <td>0</td>\n",
       "    </tr>\n",
       "    <tr>\n",
       "      <th>...</th>\n",
       "      <td>...</td>\n",
       "      <td>...</td>\n",
       "      <td>...</td>\n",
       "      <td>...</td>\n",
       "      <td>...</td>\n",
       "      <td>...</td>\n",
       "      <td>...</td>\n",
       "      <td>...</td>\n",
       "      <td>...</td>\n",
       "      <td>...</td>\n",
       "      <td>...</td>\n",
       "      <td>...</td>\n",
       "      <td>...</td>\n",
       "    </tr>\n",
       "    <tr>\n",
       "      <th>5281</th>\n",
       "      <td>0.674</td>\n",
       "      <td>0.175676</td>\n",
       "      <td>0.3</td>\n",
       "      <td>0.000000</td>\n",
       "      <td>0.333333</td>\n",
       "      <td>0</td>\n",
       "      <td>0</td>\n",
       "      <td>0.241106</td>\n",
       "      <td>0</td>\n",
       "      <td>1</td>\n",
       "      <td>0</td>\n",
       "      <td>0</td>\n",
       "      <td>1</td>\n",
       "    </tr>\n",
       "    <tr>\n",
       "      <th>3041</th>\n",
       "      <td>0.642</td>\n",
       "      <td>0.216216</td>\n",
       "      <td>0.7</td>\n",
       "      <td>0.424889</td>\n",
       "      <td>0.333333</td>\n",
       "      <td>1</td>\n",
       "      <td>1</td>\n",
       "      <td>0.131893</td>\n",
       "      <td>0</td>\n",
       "      <td>1</td>\n",
       "      <td>1</td>\n",
       "      <td>0</td>\n",
       "      <td>0</td>\n",
       "    </tr>\n",
       "    <tr>\n",
       "      <th>5639</th>\n",
       "      <td>0.346</td>\n",
       "      <td>0.581081</td>\n",
       "      <td>0.8</td>\n",
       "      <td>0.264054</td>\n",
       "      <td>0.000000</td>\n",
       "      <td>1</td>\n",
       "      <td>1</td>\n",
       "      <td>0.109248</td>\n",
       "      <td>0</td>\n",
       "      <td>1</td>\n",
       "      <td>1</td>\n",
       "      <td>0</td>\n",
       "      <td>0</td>\n",
       "    </tr>\n",
       "    <tr>\n",
       "      <th>1732</th>\n",
       "      <td>0.770</td>\n",
       "      <td>0.418919</td>\n",
       "      <td>0.5</td>\n",
       "      <td>0.486147</td>\n",
       "      <td>0.000000</td>\n",
       "      <td>1</td>\n",
       "      <td>0</td>\n",
       "      <td>0.744035</td>\n",
       "      <td>0</td>\n",
       "      <td>1</td>\n",
       "      <td>1</td>\n",
       "      <td>0</td>\n",
       "      <td>0</td>\n",
       "    </tr>\n",
       "    <tr>\n",
       "      <th>5265</th>\n",
       "      <td>0.420</td>\n",
       "      <td>0.121622</td>\n",
       "      <td>0.5</td>\n",
       "      <td>0.000000</td>\n",
       "      <td>0.333333</td>\n",
       "      <td>1</td>\n",
       "      <td>0</td>\n",
       "      <td>0.659602</td>\n",
       "      <td>1</td>\n",
       "      <td>0</td>\n",
       "      <td>1</td>\n",
       "      <td>0</td>\n",
       "      <td>0</td>\n",
       "    </tr>\n",
       "  </tbody>\n",
       "</table>\n",
       "<p>8000 rows × 13 columns</p>\n",
       "</div>"
      ],
      "text/plain": [
       "      CreditScore       Age  Tenure   Balance  NumOfProducts  HasCrCard  \\\n",
       "7450        0.724  0.283784     0.5  0.650055       0.333333          1   \n",
       "6975        0.412  0.270270     0.2  0.460199       0.000000          1   \n",
       "3416        0.364  0.270270     0.9  0.000000       0.333333          0   \n",
       "3718        0.436  0.162162     0.8  0.291171       0.333333          1   \n",
       "5945        0.732  0.297297     0.3  0.000000       0.333333          0   \n",
       "...           ...       ...     ...       ...            ...        ...   \n",
       "5281        0.674  0.175676     0.3  0.000000       0.333333          0   \n",
       "3041        0.642  0.216216     0.7  0.424889       0.333333          1   \n",
       "5639        0.346  0.581081     0.8  0.264054       0.000000          1   \n",
       "1732        0.770  0.418919     0.5  0.486147       0.000000          1   \n",
       "5265        0.420  0.121622     0.5  0.000000       0.333333          1   \n",
       "\n",
       "      IsActiveMember  EstimatedSalary  Gender_Female  Gender_Male  \\\n",
       "7450               1         0.118466              1            0   \n",
       "6975               0         0.753412              0            1   \n",
       "3416               0         0.152876              0            1   \n",
       "3718               1         0.135015              0            1   \n",
       "5945               1         0.838203              1            0   \n",
       "...              ...              ...            ...          ...   \n",
       "5281               0         0.241106              0            1   \n",
       "3041               1         0.131893              0            1   \n",
       "5639               1         0.109248              0            1   \n",
       "1732               0         0.744035              0            1   \n",
       "5265               0         0.659602              1            0   \n",
       "\n",
       "      Geography_France  Geography_Germany  Geography_Spain  \n",
       "7450                 0                  0                1  \n",
       "6975                 0                  0                1  \n",
       "3416                 1                  0                0  \n",
       "3718                 1                  0                0  \n",
       "5945                 1                  0                0  \n",
       "...                ...                ...              ...  \n",
       "5281                 0                  0                1  \n",
       "3041                 1                  0                0  \n",
       "5639                 1                  0                0  \n",
       "1732                 1                  0                0  \n",
       "5265                 1                  0                0  \n",
       "\n",
       "[8000 rows x 13 columns]"
      ]
     },
     "execution_count": 15,
     "metadata": {},
     "output_type": "execute_result"
    }
   ],
   "source": [
    "X_scale = MinMaxScaler()\n",
    "continous_att = ['CreditScore','Age','Tenure','Balance','NumOfProducts','EstimatedSalary']\n",
    "X_train[continous_att] = X_scale.fit_transform(X_train[continous_att])\n",
    "X_train"
   ]
  },
  {
   "cell_type": "markdown",
   "id": "02859b72",
   "metadata": {},
   "source": [
    "2. Scale the X_test data using the scaler you have just fit, this time using the `transform()` function. Note: store the scaled values back into X_test.  At the end of this step, you must have X_train, X_test, scaled according to the MinMaxScaler."
   ]
  },
  {
   "cell_type": "code",
   "execution_count": 16,
   "id": "9e7d897f",
   "metadata": {},
   "outputs": [
    {
     "data": {
      "text/html": [
       "<div>\n",
       "<style scoped>\n",
       "    .dataframe tbody tr th:only-of-type {\n",
       "        vertical-align: middle;\n",
       "    }\n",
       "\n",
       "    .dataframe tbody tr th {\n",
       "        vertical-align: top;\n",
       "    }\n",
       "\n",
       "    .dataframe thead th {\n",
       "        text-align: right;\n",
       "    }\n",
       "</style>\n",
       "<table border=\"1\" class=\"dataframe\">\n",
       "  <thead>\n",
       "    <tr style=\"text-align: right;\">\n",
       "      <th></th>\n",
       "      <th>CreditScore</th>\n",
       "      <th>Age</th>\n",
       "      <th>Tenure</th>\n",
       "      <th>Balance</th>\n",
       "      <th>NumOfProducts</th>\n",
       "      <th>HasCrCard</th>\n",
       "      <th>IsActiveMember</th>\n",
       "      <th>EstimatedSalary</th>\n",
       "      <th>Gender_Female</th>\n",
       "      <th>Gender_Male</th>\n",
       "      <th>Geography_France</th>\n",
       "      <th>Geography_Germany</th>\n",
       "      <th>Geography_Spain</th>\n",
       "    </tr>\n",
       "  </thead>\n",
       "  <tbody>\n",
       "    <tr>\n",
       "      <th>1547</th>\n",
       "      <td>0.606</td>\n",
       "      <td>0.162162</td>\n",
       "      <td>0.2</td>\n",
       "      <td>0.351710</td>\n",
       "      <td>0.333333</td>\n",
       "      <td>1</td>\n",
       "      <td>1</td>\n",
       "      <td>0.483280</td>\n",
       "      <td>1</td>\n",
       "      <td>0</td>\n",
       "      <td>0</td>\n",
       "      <td>0</td>\n",
       "      <td>1</td>\n",
       "    </tr>\n",
       "    <tr>\n",
       "      <th>4656</th>\n",
       "      <td>0.986</td>\n",
       "      <td>0.270270</td>\n",
       "      <td>0.8</td>\n",
       "      <td>0.537619</td>\n",
       "      <td>0.000000</td>\n",
       "      <td>1</td>\n",
       "      <td>1</td>\n",
       "      <td>0.053967</td>\n",
       "      <td>1</td>\n",
       "      <td>0</td>\n",
       "      <td>1</td>\n",
       "      <td>0</td>\n",
       "      <td>0</td>\n",
       "    </tr>\n",
       "    <tr>\n",
       "      <th>1951</th>\n",
       "      <td>0.508</td>\n",
       "      <td>0.472973</td>\n",
       "      <td>0.8</td>\n",
       "      <td>0.575747</td>\n",
       "      <td>0.000000</td>\n",
       "      <td>1</td>\n",
       "      <td>0</td>\n",
       "      <td>0.955028</td>\n",
       "      <td>0</td>\n",
       "      <td>1</td>\n",
       "      <td>1</td>\n",
       "      <td>0</td>\n",
       "      <td>0</td>\n",
       "    </tr>\n",
       "    <tr>\n",
       "      <th>5185</th>\n",
       "      <td>0.828</td>\n",
       "      <td>0.283784</td>\n",
       "      <td>0.9</td>\n",
       "      <td>0.551385</td>\n",
       "      <td>0.000000</td>\n",
       "      <td>1</td>\n",
       "      <td>0</td>\n",
       "      <td>0.250331</td>\n",
       "      <td>1</td>\n",
       "      <td>0</td>\n",
       "      <td>0</td>\n",
       "      <td>1</td>\n",
       "      <td>0</td>\n",
       "    </tr>\n",
       "    <tr>\n",
       "      <th>6151</th>\n",
       "      <td>0.754</td>\n",
       "      <td>0.175676</td>\n",
       "      <td>1.0</td>\n",
       "      <td>0.386600</td>\n",
       "      <td>0.333333</td>\n",
       "      <td>0</td>\n",
       "      <td>0</td>\n",
       "      <td>0.383049</td>\n",
       "      <td>1</td>\n",
       "      <td>0</td>\n",
       "      <td>0</td>\n",
       "      <td>0</td>\n",
       "      <td>1</td>\n",
       "    </tr>\n",
       "    <tr>\n",
       "      <th>...</th>\n",
       "      <td>...</td>\n",
       "      <td>...</td>\n",
       "      <td>...</td>\n",
       "      <td>...</td>\n",
       "      <td>...</td>\n",
       "      <td>...</td>\n",
       "      <td>...</td>\n",
       "      <td>...</td>\n",
       "      <td>...</td>\n",
       "      <td>...</td>\n",
       "      <td>...</td>\n",
       "      <td>...</td>\n",
       "      <td>...</td>\n",
       "    </tr>\n",
       "    <tr>\n",
       "      <th>4709</th>\n",
       "      <td>0.408</td>\n",
       "      <td>0.175676</td>\n",
       "      <td>0.1</td>\n",
       "      <td>0.000000</td>\n",
       "      <td>0.333333</td>\n",
       "      <td>0</td>\n",
       "      <td>1</td>\n",
       "      <td>0.963337</td>\n",
       "      <td>0</td>\n",
       "      <td>1</td>\n",
       "      <td>1</td>\n",
       "      <td>0</td>\n",
       "      <td>0</td>\n",
       "    </tr>\n",
       "    <tr>\n",
       "      <th>2126</th>\n",
       "      <td>0.880</td>\n",
       "      <td>0.297297</td>\n",
       "      <td>0.9</td>\n",
       "      <td>0.000000</td>\n",
       "      <td>0.333333</td>\n",
       "      <td>1</td>\n",
       "      <td>1</td>\n",
       "      <td>0.353011</td>\n",
       "      <td>1</td>\n",
       "      <td>0</td>\n",
       "      <td>1</td>\n",
       "      <td>0</td>\n",
       "      <td>0</td>\n",
       "    </tr>\n",
       "    <tr>\n",
       "      <th>7774</th>\n",
       "      <td>1.000</td>\n",
       "      <td>0.337838</td>\n",
       "      <td>0.5</td>\n",
       "      <td>0.515369</td>\n",
       "      <td>0.333333</td>\n",
       "      <td>0</td>\n",
       "      <td>1</td>\n",
       "      <td>0.096174</td>\n",
       "      <td>0</td>\n",
       "      <td>1</td>\n",
       "      <td>0</td>\n",
       "      <td>1</td>\n",
       "      <td>0</td>\n",
       "    </tr>\n",
       "    <tr>\n",
       "      <th>3597</th>\n",
       "      <td>0.892</td>\n",
       "      <td>0.297297</td>\n",
       "      <td>0.1</td>\n",
       "      <td>0.397556</td>\n",
       "      <td>0.000000</td>\n",
       "      <td>1</td>\n",
       "      <td>0</td>\n",
       "      <td>0.887648</td>\n",
       "      <td>1</td>\n",
       "      <td>0</td>\n",
       "      <td>0</td>\n",
       "      <td>1</td>\n",
       "      <td>0</td>\n",
       "    </tr>\n",
       "    <tr>\n",
       "      <th>4356</th>\n",
       "      <td>0.582</td>\n",
       "      <td>0.324324</td>\n",
       "      <td>0.7</td>\n",
       "      <td>0.499953</td>\n",
       "      <td>0.333333</td>\n",
       "      <td>0</td>\n",
       "      <td>0</td>\n",
       "      <td>0.820663</td>\n",
       "      <td>1</td>\n",
       "      <td>0</td>\n",
       "      <td>1</td>\n",
       "      <td>0</td>\n",
       "      <td>0</td>\n",
       "    </tr>\n",
       "  </tbody>\n",
       "</table>\n",
       "<p>2000 rows × 13 columns</p>\n",
       "</div>"
      ],
      "text/plain": [
       "      CreditScore       Age  Tenure   Balance  NumOfProducts  HasCrCard  \\\n",
       "1547        0.606  0.162162     0.2  0.351710       0.333333          1   \n",
       "4656        0.986  0.270270     0.8  0.537619       0.000000          1   \n",
       "1951        0.508  0.472973     0.8  0.575747       0.000000          1   \n",
       "5185        0.828  0.283784     0.9  0.551385       0.000000          1   \n",
       "6151        0.754  0.175676     1.0  0.386600       0.333333          0   \n",
       "...           ...       ...     ...       ...            ...        ...   \n",
       "4709        0.408  0.175676     0.1  0.000000       0.333333          0   \n",
       "2126        0.880  0.297297     0.9  0.000000       0.333333          1   \n",
       "7774        1.000  0.337838     0.5  0.515369       0.333333          0   \n",
       "3597        0.892  0.297297     0.1  0.397556       0.000000          1   \n",
       "4356        0.582  0.324324     0.7  0.499953       0.333333          0   \n",
       "\n",
       "      IsActiveMember  EstimatedSalary  Gender_Female  Gender_Male  \\\n",
       "1547               1         0.483280              1            0   \n",
       "4656               1         0.053967              1            0   \n",
       "1951               0         0.955028              0            1   \n",
       "5185               0         0.250331              1            0   \n",
       "6151               0         0.383049              1            0   \n",
       "...              ...              ...            ...          ...   \n",
       "4709               1         0.963337              0            1   \n",
       "2126               1         0.353011              1            0   \n",
       "7774               1         0.096174              0            1   \n",
       "3597               0         0.887648              1            0   \n",
       "4356               0         0.820663              1            0   \n",
       "\n",
       "      Geography_France  Geography_Germany  Geography_Spain  \n",
       "1547                 0                  0                1  \n",
       "4656                 1                  0                0  \n",
       "1951                 1                  0                0  \n",
       "5185                 0                  1                0  \n",
       "6151                 0                  0                1  \n",
       "...                ...                ...              ...  \n",
       "4709                 1                  0                0  \n",
       "2126                 1                  0                0  \n",
       "7774                 0                  1                0  \n",
       "3597                 0                  1                0  \n",
       "4356                 1                  0                0  \n",
       "\n",
       "[2000 rows x 13 columns]"
      ]
     },
     "execution_count": 16,
     "metadata": {},
     "output_type": "execute_result"
    }
   ],
   "source": [
    "X_test[continous_att] = X_scale.transform(X_test[continous_att])\n",
    "X_test"
   ]
  },
  {
   "cell_type": "markdown",
   "id": "0a07196d",
   "metadata": {},
   "source": [
    "### c. Modelling\n",
    "### i. Modeling (Model Instantiation / Training) using Logistic Regression classifier \n",
    "1. Employ the Logistic Regression classifier from sklearn and instantiate the model. Label this model as ‘model_1_lr’"
   ]
  },
  {
   "cell_type": "code",
   "execution_count": 17,
   "id": "3f6fe862",
   "metadata": {},
   "outputs": [],
   "source": [
    "model_1_lr = LogisticRegression()"
   ]
  },
  {
   "cell_type": "markdown",
   "id": "33263994",
   "metadata": {},
   "source": [
    "2. Once instantiated, `fit()` the model using the scaled X_train, y_train data."
   ]
  },
  {
   "cell_type": "code",
   "execution_count": 18,
   "id": "2017fe9c",
   "metadata": {},
   "outputs": [
    {
     "data": {
      "text/html": [
       "<style>#sk-container-id-1 {color: black;}#sk-container-id-1 pre{padding: 0;}#sk-container-id-1 div.sk-toggleable {background-color: white;}#sk-container-id-1 label.sk-toggleable__label {cursor: pointer;display: block;width: 100%;margin-bottom: 0;padding: 0.3em;box-sizing: border-box;text-align: center;}#sk-container-id-1 label.sk-toggleable__label-arrow:before {content: \"▸\";float: left;margin-right: 0.25em;color: #696969;}#sk-container-id-1 label.sk-toggleable__label-arrow:hover:before {color: black;}#sk-container-id-1 div.sk-estimator:hover label.sk-toggleable__label-arrow:before {color: black;}#sk-container-id-1 div.sk-toggleable__content {max-height: 0;max-width: 0;overflow: hidden;text-align: left;background-color: #f0f8ff;}#sk-container-id-1 div.sk-toggleable__content pre {margin: 0.2em;color: black;border-radius: 0.25em;background-color: #f0f8ff;}#sk-container-id-1 input.sk-toggleable__control:checked~div.sk-toggleable__content {max-height: 200px;max-width: 100%;overflow: auto;}#sk-container-id-1 input.sk-toggleable__control:checked~label.sk-toggleable__label-arrow:before {content: \"▾\";}#sk-container-id-1 div.sk-estimator input.sk-toggleable__control:checked~label.sk-toggleable__label {background-color: #d4ebff;}#sk-container-id-1 div.sk-label input.sk-toggleable__control:checked~label.sk-toggleable__label {background-color: #d4ebff;}#sk-container-id-1 input.sk-hidden--visually {border: 0;clip: rect(1px 1px 1px 1px);clip: rect(1px, 1px, 1px, 1px);height: 1px;margin: -1px;overflow: hidden;padding: 0;position: absolute;width: 1px;}#sk-container-id-1 div.sk-estimator {font-family: monospace;background-color: #f0f8ff;border: 1px dotted black;border-radius: 0.25em;box-sizing: border-box;margin-bottom: 0.5em;}#sk-container-id-1 div.sk-estimator:hover {background-color: #d4ebff;}#sk-container-id-1 div.sk-parallel-item::after {content: \"\";width: 100%;border-bottom: 1px solid gray;flex-grow: 1;}#sk-container-id-1 div.sk-label:hover label.sk-toggleable__label {background-color: #d4ebff;}#sk-container-id-1 div.sk-serial::before {content: \"\";position: absolute;border-left: 1px solid gray;box-sizing: border-box;top: 0;bottom: 0;left: 50%;z-index: 0;}#sk-container-id-1 div.sk-serial {display: flex;flex-direction: column;align-items: center;background-color: white;padding-right: 0.2em;padding-left: 0.2em;position: relative;}#sk-container-id-1 div.sk-item {position: relative;z-index: 1;}#sk-container-id-1 div.sk-parallel {display: flex;align-items: stretch;justify-content: center;background-color: white;position: relative;}#sk-container-id-1 div.sk-item::before, #sk-container-id-1 div.sk-parallel-item::before {content: \"\";position: absolute;border-left: 1px solid gray;box-sizing: border-box;top: 0;bottom: 0;left: 50%;z-index: -1;}#sk-container-id-1 div.sk-parallel-item {display: flex;flex-direction: column;z-index: 1;position: relative;background-color: white;}#sk-container-id-1 div.sk-parallel-item:first-child::after {align-self: flex-end;width: 50%;}#sk-container-id-1 div.sk-parallel-item:last-child::after {align-self: flex-start;width: 50%;}#sk-container-id-1 div.sk-parallel-item:only-child::after {width: 0;}#sk-container-id-1 div.sk-dashed-wrapped {border: 1px dashed gray;margin: 0 0.4em 0.5em 0.4em;box-sizing: border-box;padding-bottom: 0.4em;background-color: white;}#sk-container-id-1 div.sk-label label {font-family: monospace;font-weight: bold;display: inline-block;line-height: 1.2em;}#sk-container-id-1 div.sk-label-container {text-align: center;}#sk-container-id-1 div.sk-container {/* jupyter's `normalize.less` sets `[hidden] { display: none; }` but bootstrap.min.css set `[hidden] { display: none !important; }` so we also need the `!important` here to be able to override the default hidden behavior on the sphinx rendered scikit-learn.org. See: https://github.com/scikit-learn/scikit-learn/issues/21755 */display: inline-block !important;position: relative;}#sk-container-id-1 div.sk-text-repr-fallback {display: none;}</style><div id=\"sk-container-id-1\" class=\"sk-top-container\"><div class=\"sk-text-repr-fallback\"><pre>LogisticRegression()</pre><b>In a Jupyter environment, please rerun this cell to show the HTML representation or trust the notebook. <br />On GitHub, the HTML representation is unable to render, please try loading this page with nbviewer.org.</b></div><div class=\"sk-container\" hidden><div class=\"sk-item\"><div class=\"sk-estimator sk-toggleable\"><input class=\"sk-toggleable__control sk-hidden--visually\" id=\"sk-estimator-id-1\" type=\"checkbox\" checked><label for=\"sk-estimator-id-1\" class=\"sk-toggleable__label sk-toggleable__label-arrow\">LogisticRegression</label><div class=\"sk-toggleable__content\"><pre>LogisticRegression()</pre></div></div></div></div></div>"
      ],
      "text/plain": [
       "LogisticRegression()"
      ]
     },
     "execution_count": 18,
     "metadata": {},
     "output_type": "execute_result"
    }
   ],
   "source": [
    "model_1_lr.fit(X_train,y_train)"
   ]
  },
  {
   "cell_type": "markdown",
   "id": "94b94480",
   "metadata": {},
   "source": [
    "3. Employ the `predict()` function to obtain predictions on X_test and store this in a variable labeled as ‘y_pred_lr’."
   ]
  },
  {
   "cell_type": "code",
   "execution_count": 19,
   "id": "c92ba92a",
   "metadata": {},
   "outputs": [],
   "source": [
    "y_pred_lr = model_1_lr.predict(X_test)"
   ]
  },
  {
   "cell_type": "markdown",
   "id": "2e2929e7",
   "metadata": {},
   "source": [
    "4. Employ the ‘accuracy_score()’ function by using the ‘y_pred_lr’ and ‘y_test’ variables as the functions parameters and print the accuracy of the Logistic Regression model   "
   ]
  },
  {
   "cell_type": "code",
   "execution_count": 20,
   "id": "5abbd18b",
   "metadata": {},
   "outputs": [
    {
     "data": {
      "text/plain": [
       "0.802"
      ]
     },
     "execution_count": 20,
     "metadata": {},
     "output_type": "execute_result"
    }
   ],
   "source": [
    "accuracy_lr = accuracy_score(y_test,y_pred_lr)\n",
    "accuracy_lr"
   ]
  },
  {
   "cell_type": "code",
   "execution_count": 21,
   "id": "b05fbd62",
   "metadata": {},
   "outputs": [
    {
     "name": "stdout",
     "output_type": "stream",
     "text": [
      "The accuracy of Logistic Regression Model is  80.2 %\n"
     ]
    }
   ],
   "source": [
    "print(\"The accuracy of Logistic Regression Model is \",accuracy_lr*100,\"%\")"
   ]
  },
  {
   "cell_type": "markdown",
   "id": "b2503ef4",
   "metadata": {},
   "source": [
    "### ii. Modeling (Model Instantiation / Training) using Support Vector Machine Classifier \n",
    "\n",
    "1. Employ the Support Vector Machine (SVM) classifier from sklearn and instantiate the model. Label this model as ‘model_2_svm’"
   ]
  },
  {
   "cell_type": "code",
   "execution_count": 22,
   "id": "4bd49f8d",
   "metadata": {},
   "outputs": [],
   "source": [
    "model_2_svm = SVC()"
   ]
  },
  {
   "cell_type": "markdown",
   "id": "58b73401",
   "metadata": {},
   "source": [
    "2. Once instantiated, ‘fit()’ the model using the scaled X_train, y_train data."
   ]
  },
  {
   "cell_type": "code",
   "execution_count": 23,
   "id": "13d91f9c",
   "metadata": {},
   "outputs": [
    {
     "data": {
      "text/html": [
       "<style>#sk-container-id-2 {color: black;}#sk-container-id-2 pre{padding: 0;}#sk-container-id-2 div.sk-toggleable {background-color: white;}#sk-container-id-2 label.sk-toggleable__label {cursor: pointer;display: block;width: 100%;margin-bottom: 0;padding: 0.3em;box-sizing: border-box;text-align: center;}#sk-container-id-2 label.sk-toggleable__label-arrow:before {content: \"▸\";float: left;margin-right: 0.25em;color: #696969;}#sk-container-id-2 label.sk-toggleable__label-arrow:hover:before {color: black;}#sk-container-id-2 div.sk-estimator:hover label.sk-toggleable__label-arrow:before {color: black;}#sk-container-id-2 div.sk-toggleable__content {max-height: 0;max-width: 0;overflow: hidden;text-align: left;background-color: #f0f8ff;}#sk-container-id-2 div.sk-toggleable__content pre {margin: 0.2em;color: black;border-radius: 0.25em;background-color: #f0f8ff;}#sk-container-id-2 input.sk-toggleable__control:checked~div.sk-toggleable__content {max-height: 200px;max-width: 100%;overflow: auto;}#sk-container-id-2 input.sk-toggleable__control:checked~label.sk-toggleable__label-arrow:before {content: \"▾\";}#sk-container-id-2 div.sk-estimator input.sk-toggleable__control:checked~label.sk-toggleable__label {background-color: #d4ebff;}#sk-container-id-2 div.sk-label input.sk-toggleable__control:checked~label.sk-toggleable__label {background-color: #d4ebff;}#sk-container-id-2 input.sk-hidden--visually {border: 0;clip: rect(1px 1px 1px 1px);clip: rect(1px, 1px, 1px, 1px);height: 1px;margin: -1px;overflow: hidden;padding: 0;position: absolute;width: 1px;}#sk-container-id-2 div.sk-estimator {font-family: monospace;background-color: #f0f8ff;border: 1px dotted black;border-radius: 0.25em;box-sizing: border-box;margin-bottom: 0.5em;}#sk-container-id-2 div.sk-estimator:hover {background-color: #d4ebff;}#sk-container-id-2 div.sk-parallel-item::after {content: \"\";width: 100%;border-bottom: 1px solid gray;flex-grow: 1;}#sk-container-id-2 div.sk-label:hover label.sk-toggleable__label {background-color: #d4ebff;}#sk-container-id-2 div.sk-serial::before {content: \"\";position: absolute;border-left: 1px solid gray;box-sizing: border-box;top: 0;bottom: 0;left: 50%;z-index: 0;}#sk-container-id-2 div.sk-serial {display: flex;flex-direction: column;align-items: center;background-color: white;padding-right: 0.2em;padding-left: 0.2em;position: relative;}#sk-container-id-2 div.sk-item {position: relative;z-index: 1;}#sk-container-id-2 div.sk-parallel {display: flex;align-items: stretch;justify-content: center;background-color: white;position: relative;}#sk-container-id-2 div.sk-item::before, #sk-container-id-2 div.sk-parallel-item::before {content: \"\";position: absolute;border-left: 1px solid gray;box-sizing: border-box;top: 0;bottom: 0;left: 50%;z-index: -1;}#sk-container-id-2 div.sk-parallel-item {display: flex;flex-direction: column;z-index: 1;position: relative;background-color: white;}#sk-container-id-2 div.sk-parallel-item:first-child::after {align-self: flex-end;width: 50%;}#sk-container-id-2 div.sk-parallel-item:last-child::after {align-self: flex-start;width: 50%;}#sk-container-id-2 div.sk-parallel-item:only-child::after {width: 0;}#sk-container-id-2 div.sk-dashed-wrapped {border: 1px dashed gray;margin: 0 0.4em 0.5em 0.4em;box-sizing: border-box;padding-bottom: 0.4em;background-color: white;}#sk-container-id-2 div.sk-label label {font-family: monospace;font-weight: bold;display: inline-block;line-height: 1.2em;}#sk-container-id-2 div.sk-label-container {text-align: center;}#sk-container-id-2 div.sk-container {/* jupyter's `normalize.less` sets `[hidden] { display: none; }` but bootstrap.min.css set `[hidden] { display: none !important; }` so we also need the `!important` here to be able to override the default hidden behavior on the sphinx rendered scikit-learn.org. See: https://github.com/scikit-learn/scikit-learn/issues/21755 */display: inline-block !important;position: relative;}#sk-container-id-2 div.sk-text-repr-fallback {display: none;}</style><div id=\"sk-container-id-2\" class=\"sk-top-container\"><div class=\"sk-text-repr-fallback\"><pre>SVC()</pre><b>In a Jupyter environment, please rerun this cell to show the HTML representation or trust the notebook. <br />On GitHub, the HTML representation is unable to render, please try loading this page with nbviewer.org.</b></div><div class=\"sk-container\" hidden><div class=\"sk-item\"><div class=\"sk-estimator sk-toggleable\"><input class=\"sk-toggleable__control sk-hidden--visually\" id=\"sk-estimator-id-2\" type=\"checkbox\" checked><label for=\"sk-estimator-id-2\" class=\"sk-toggleable__label sk-toggleable__label-arrow\">SVC</label><div class=\"sk-toggleable__content\"><pre>SVC()</pre></div></div></div></div></div>"
      ],
      "text/plain": [
       "SVC()"
      ]
     },
     "execution_count": 23,
     "metadata": {},
     "output_type": "execute_result"
    }
   ],
   "source": [
    "model_2_svm.fit(X_train,y_train)"
   ]
  },
  {
   "cell_type": "markdown",
   "id": "21d29081",
   "metadata": {},
   "source": [
    "3. Employ the ‘predict()’ function to obtain predictions on X_test and store this in a variable labeled as ‘y_pred_svm’. "
   ]
  },
  {
   "cell_type": "code",
   "execution_count": 24,
   "id": "51e9de54",
   "metadata": {},
   "outputs": [],
   "source": [
    "y_pred_svm = model_2_svm.predict(X_test)"
   ]
  },
  {
   "cell_type": "markdown",
   "id": "c736671f",
   "metadata": {},
   "source": [
    "4. Employ the ‘accuracy_score’ function (‘sklearn.metrics.accuracy()’ function) by using the ‘y_pred_lr’ and ‘y_test’ variables as the functions parameters and print the accuracy of the SVM model. "
   ]
  },
  {
   "cell_type": "code",
   "execution_count": 25,
   "id": "152d9c02",
   "metadata": {},
   "outputs": [
    {
     "data": {
      "text/plain": [
       "0.8175"
      ]
     },
     "execution_count": 25,
     "metadata": {},
     "output_type": "execute_result"
    }
   ],
   "source": [
    "accuracy_svm = accuracy_score(y_test,y_pred_svm)\n",
    "accuracy_svm"
   ]
  },
  {
   "cell_type": "code",
   "execution_count": 26,
   "id": "73029de1",
   "metadata": {},
   "outputs": [
    {
     "name": "stdout",
     "output_type": "stream",
     "text": [
      "The accuracy of SVM Model is  81.75 %\n"
     ]
    }
   ],
   "source": [
    "print(\"The accuracy of SVM Model is \",accuracy_svm*100,\"%\")"
   ]
  },
  {
   "cell_type": "markdown",
   "id": "440edeea",
   "metadata": {},
   "source": [
    "### iii. Modeling Logistic Regression Classifier on a balanced dataset \n",
    "1. Employ Synthetic Minority Oversampling on X_train and y_train. To use SMOTE you will have to install the imbalanced-learn library, this can either be down by executing the following command ‘pip install -U imbalanced-learn’ command ‘conda install -c conda-forage imbalanced-learn’ command for the Anaconda Cloud platform. (For more information click the following link: https://imbalanced-learn.org/stable/install.html).  \n",
    "Import the ‘SMOTE’ function from the ‘imblearn.over_sampling’. Use the ‘smote.refit_resample()’ function on X_train and y_train using its default parameters. Store them in X_train_smote, y_train_smote. - Be careful to employ SMOTE ONLY on the training data and not on the full dataset because that can cause inadvertent “data leakage” (please see: https://arxiv.org/pdf/2107.00079.pdf for details) . "
   ]
  },
  {
   "cell_type": "code",
   "execution_count": 27,
   "id": "df03f658",
   "metadata": {
    "scrolled": true
   },
   "outputs": [
    {
     "name": "stdout",
     "output_type": "stream",
     "text": [
      "Requirement already satisfied: imbalanced-learn in d:\\anaconda\\lib\\site-packages (0.11.0)\n",
      "Requirement already satisfied: numpy>=1.17.3 in d:\\anaconda\\lib\\site-packages (from imbalanced-learn) (1.24.3)\n",
      "Requirement already satisfied: scipy>=1.5.0 in d:\\anaconda\\lib\\site-packages (from imbalanced-learn) (1.10.1)\n",
      "Requirement already satisfied: scikit-learn>=1.0.2 in d:\\anaconda\\lib\\site-packages (from imbalanced-learn) (1.3.2)\n",
      "Requirement already satisfied: joblib>=1.1.1 in d:\\anaconda\\lib\\site-packages (from imbalanced-learn) (1.2.0)\n",
      "Requirement already satisfied: threadpoolctl>=2.0.0 in d:\\anaconda\\lib\\site-packages (from imbalanced-learn) (2.2.0)\n",
      "Note: you may need to restart the kernel to use updated packages.\n"
     ]
    }
   ],
   "source": [
    "pip install -U imbalanced-learn"
   ]
  },
  {
   "cell_type": "code",
   "execution_count": 28,
   "id": "4de1cac3",
   "metadata": {},
   "outputs": [],
   "source": [
    "smote = SMOTE()\n",
    "X_train_smote,y_train_smote = smote.fit_resample(X_train,y_train)"
   ]
  },
  {
   "cell_type": "code",
   "execution_count": 29,
   "id": "7b8c34aa",
   "metadata": {},
   "outputs": [
    {
     "data": {
      "text/html": [
       "<div>\n",
       "<style scoped>\n",
       "    .dataframe tbody tr th:only-of-type {\n",
       "        vertical-align: middle;\n",
       "    }\n",
       "\n",
       "    .dataframe tbody tr th {\n",
       "        vertical-align: top;\n",
       "    }\n",
       "\n",
       "    .dataframe thead th {\n",
       "        text-align: right;\n",
       "    }\n",
       "</style>\n",
       "<table border=\"1\" class=\"dataframe\">\n",
       "  <thead>\n",
       "    <tr style=\"text-align: right;\">\n",
       "      <th></th>\n",
       "      <th>CreditScore</th>\n",
       "      <th>Age</th>\n",
       "      <th>Tenure</th>\n",
       "      <th>Balance</th>\n",
       "      <th>NumOfProducts</th>\n",
       "      <th>HasCrCard</th>\n",
       "      <th>IsActiveMember</th>\n",
       "      <th>EstimatedSalary</th>\n",
       "      <th>Gender_Female</th>\n",
       "      <th>Gender_Male</th>\n",
       "      <th>Geography_France</th>\n",
       "      <th>Geography_Germany</th>\n",
       "      <th>Geography_Spain</th>\n",
       "    </tr>\n",
       "  </thead>\n",
       "  <tbody>\n",
       "    <tr>\n",
       "      <th>0</th>\n",
       "      <td>0.724000</td>\n",
       "      <td>0.283784</td>\n",
       "      <td>0.500000</td>\n",
       "      <td>0.650055</td>\n",
       "      <td>0.333333</td>\n",
       "      <td>1</td>\n",
       "      <td>1</td>\n",
       "      <td>0.118466</td>\n",
       "      <td>1</td>\n",
       "      <td>0</td>\n",
       "      <td>0</td>\n",
       "      <td>0</td>\n",
       "      <td>1</td>\n",
       "    </tr>\n",
       "    <tr>\n",
       "      <th>1</th>\n",
       "      <td>0.412000</td>\n",
       "      <td>0.270270</td>\n",
       "      <td>0.200000</td>\n",
       "      <td>0.460199</td>\n",
       "      <td>0.000000</td>\n",
       "      <td>1</td>\n",
       "      <td>0</td>\n",
       "      <td>0.753412</td>\n",
       "      <td>0</td>\n",
       "      <td>1</td>\n",
       "      <td>0</td>\n",
       "      <td>0</td>\n",
       "      <td>1</td>\n",
       "    </tr>\n",
       "    <tr>\n",
       "      <th>2</th>\n",
       "      <td>0.364000</td>\n",
       "      <td>0.270270</td>\n",
       "      <td>0.900000</td>\n",
       "      <td>0.000000</td>\n",
       "      <td>0.333333</td>\n",
       "      <td>0</td>\n",
       "      <td>0</td>\n",
       "      <td>0.152876</td>\n",
       "      <td>0</td>\n",
       "      <td>1</td>\n",
       "      <td>1</td>\n",
       "      <td>0</td>\n",
       "      <td>0</td>\n",
       "    </tr>\n",
       "    <tr>\n",
       "      <th>3</th>\n",
       "      <td>0.436000</td>\n",
       "      <td>0.162162</td>\n",
       "      <td>0.800000</td>\n",
       "      <td>0.291171</td>\n",
       "      <td>0.333333</td>\n",
       "      <td>1</td>\n",
       "      <td>1</td>\n",
       "      <td>0.135015</td>\n",
       "      <td>0</td>\n",
       "      <td>1</td>\n",
       "      <td>1</td>\n",
       "      <td>0</td>\n",
       "      <td>0</td>\n",
       "    </tr>\n",
       "    <tr>\n",
       "      <th>4</th>\n",
       "      <td>0.732000</td>\n",
       "      <td>0.297297</td>\n",
       "      <td>0.300000</td>\n",
       "      <td>0.000000</td>\n",
       "      <td>0.333333</td>\n",
       "      <td>0</td>\n",
       "      <td>1</td>\n",
       "      <td>0.838203</td>\n",
       "      <td>1</td>\n",
       "      <td>0</td>\n",
       "      <td>1</td>\n",
       "      <td>0</td>\n",
       "      <td>0</td>\n",
       "    </tr>\n",
       "    <tr>\n",
       "      <th>...</th>\n",
       "      <td>...</td>\n",
       "      <td>...</td>\n",
       "      <td>...</td>\n",
       "      <td>...</td>\n",
       "      <td>...</td>\n",
       "      <td>...</td>\n",
       "      <td>...</td>\n",
       "      <td>...</td>\n",
       "      <td>...</td>\n",
       "      <td>...</td>\n",
       "      <td>...</td>\n",
       "      <td>...</td>\n",
       "      <td>...</td>\n",
       "    </tr>\n",
       "    <tr>\n",
       "      <th>12761</th>\n",
       "      <td>0.566757</td>\n",
       "      <td>0.425404</td>\n",
       "      <td>0.338002</td>\n",
       "      <td>0.389908</td>\n",
       "      <td>0.000000</td>\n",
       "      <td>1</td>\n",
       "      <td>0</td>\n",
       "      <td>0.920327</td>\n",
       "      <td>0</td>\n",
       "      <td>1</td>\n",
       "      <td>0</td>\n",
       "      <td>1</td>\n",
       "      <td>0</td>\n",
       "    </tr>\n",
       "    <tr>\n",
       "      <th>12762</th>\n",
       "      <td>0.350314</td>\n",
       "      <td>0.275882</td>\n",
       "      <td>0.379237</td>\n",
       "      <td>0.045042</td>\n",
       "      <td>0.000000</td>\n",
       "      <td>1</td>\n",
       "      <td>0</td>\n",
       "      <td>0.584937</td>\n",
       "      <td>1</td>\n",
       "      <td>0</td>\n",
       "      <td>0</td>\n",
       "      <td>0</td>\n",
       "      <td>1</td>\n",
       "    </tr>\n",
       "    <tr>\n",
       "      <th>12763</th>\n",
       "      <td>0.494846</td>\n",
       "      <td>0.262761</td>\n",
       "      <td>0.400000</td>\n",
       "      <td>0.038542</td>\n",
       "      <td>0.666667</td>\n",
       "      <td>1</td>\n",
       "      <td>0</td>\n",
       "      <td>0.057944</td>\n",
       "      <td>1</td>\n",
       "      <td>0</td>\n",
       "      <td>1</td>\n",
       "      <td>0</td>\n",
       "      <td>0</td>\n",
       "    </tr>\n",
       "    <tr>\n",
       "      <th>12764</th>\n",
       "      <td>0.616646</td>\n",
       "      <td>0.364258</td>\n",
       "      <td>0.700000</td>\n",
       "      <td>0.146532</td>\n",
       "      <td>0.522740</td>\n",
       "      <td>1</td>\n",
       "      <td>0</td>\n",
       "      <td>0.295820</td>\n",
       "      <td>0</td>\n",
       "      <td>1</td>\n",
       "      <td>1</td>\n",
       "      <td>0</td>\n",
       "      <td>0</td>\n",
       "    </tr>\n",
       "    <tr>\n",
       "      <th>12765</th>\n",
       "      <td>0.172952</td>\n",
       "      <td>0.237800</td>\n",
       "      <td>0.971643</td>\n",
       "      <td>0.000000</td>\n",
       "      <td>0.000000</td>\n",
       "      <td>1</td>\n",
       "      <td>0</td>\n",
       "      <td>0.778365</td>\n",
       "      <td>0</td>\n",
       "      <td>1</td>\n",
       "      <td>1</td>\n",
       "      <td>0</td>\n",
       "      <td>0</td>\n",
       "    </tr>\n",
       "  </tbody>\n",
       "</table>\n",
       "<p>12766 rows × 13 columns</p>\n",
       "</div>"
      ],
      "text/plain": [
       "       CreditScore       Age    Tenure   Balance  NumOfProducts  HasCrCard  \\\n",
       "0         0.724000  0.283784  0.500000  0.650055       0.333333          1   \n",
       "1         0.412000  0.270270  0.200000  0.460199       0.000000          1   \n",
       "2         0.364000  0.270270  0.900000  0.000000       0.333333          0   \n",
       "3         0.436000  0.162162  0.800000  0.291171       0.333333          1   \n",
       "4         0.732000  0.297297  0.300000  0.000000       0.333333          0   \n",
       "...            ...       ...       ...       ...            ...        ...   \n",
       "12761     0.566757  0.425404  0.338002  0.389908       0.000000          1   \n",
       "12762     0.350314  0.275882  0.379237  0.045042       0.000000          1   \n",
       "12763     0.494846  0.262761  0.400000  0.038542       0.666667          1   \n",
       "12764     0.616646  0.364258  0.700000  0.146532       0.522740          1   \n",
       "12765     0.172952  0.237800  0.971643  0.000000       0.000000          1   \n",
       "\n",
       "       IsActiveMember  EstimatedSalary  Gender_Female  Gender_Male  \\\n",
       "0                   1         0.118466              1            0   \n",
       "1                   0         0.753412              0            1   \n",
       "2                   0         0.152876              0            1   \n",
       "3                   1         0.135015              0            1   \n",
       "4                   1         0.838203              1            0   \n",
       "...               ...              ...            ...          ...   \n",
       "12761               0         0.920327              0            1   \n",
       "12762               0         0.584937              1            0   \n",
       "12763               0         0.057944              1            0   \n",
       "12764               0         0.295820              0            1   \n",
       "12765               0         0.778365              0            1   \n",
       "\n",
       "       Geography_France  Geography_Germany  Geography_Spain  \n",
       "0                     0                  0                1  \n",
       "1                     0                  0                1  \n",
       "2                     1                  0                0  \n",
       "3                     1                  0                0  \n",
       "4                     1                  0                0  \n",
       "...                 ...                ...              ...  \n",
       "12761                 0                  1                0  \n",
       "12762                 0                  0                1  \n",
       "12763                 1                  0                0  \n",
       "12764                 1                  0                0  \n",
       "12765                 1                  0                0  \n",
       "\n",
       "[12766 rows x 13 columns]"
      ]
     },
     "execution_count": 29,
     "metadata": {},
     "output_type": "execute_result"
    }
   ],
   "source": [
    "X_train_smote"
   ]
  },
  {
   "cell_type": "code",
   "execution_count": 30,
   "id": "35b04350",
   "metadata": {},
   "outputs": [
    {
     "data": {
      "text/plain": [
       "0        0\n",
       "1        0\n",
       "2        0\n",
       "3        0\n",
       "4        0\n",
       "        ..\n",
       "12761    1\n",
       "12762    1\n",
       "12763    1\n",
       "12764    1\n",
       "12765    1\n",
       "Name: Exited, Length: 12766, dtype: int64"
      ]
     },
     "execution_count": 30,
     "metadata": {},
     "output_type": "execute_result"
    }
   ],
   "source": [
    "y_train_smote"
   ]
  },
  {
   "cell_type": "markdown",
   "id": "6d0e8304",
   "metadata": {},
   "source": [
    "2. Employ a new Logistic Regression classifier from sklearn and instantiate the model. Label this model as ‘model_3_smote_lr’"
   ]
  },
  {
   "cell_type": "code",
   "execution_count": 31,
   "id": "810fba81",
   "metadata": {},
   "outputs": [],
   "source": [
    "model_3_smote_lr = LogisticRegression()"
   ]
  },
  {
   "cell_type": "markdown",
   "id": "35977358",
   "metadata": {},
   "source": [
    "3. Once instantiated, ‘fit()’ the model using the balanced X_train_smote, y_train_smote data."
   ]
  },
  {
   "cell_type": "code",
   "execution_count": 32,
   "id": "af21c2f2",
   "metadata": {},
   "outputs": [
    {
     "data": {
      "text/html": [
       "<style>#sk-container-id-3 {color: black;}#sk-container-id-3 pre{padding: 0;}#sk-container-id-3 div.sk-toggleable {background-color: white;}#sk-container-id-3 label.sk-toggleable__label {cursor: pointer;display: block;width: 100%;margin-bottom: 0;padding: 0.3em;box-sizing: border-box;text-align: center;}#sk-container-id-3 label.sk-toggleable__label-arrow:before {content: \"▸\";float: left;margin-right: 0.25em;color: #696969;}#sk-container-id-3 label.sk-toggleable__label-arrow:hover:before {color: black;}#sk-container-id-3 div.sk-estimator:hover label.sk-toggleable__label-arrow:before {color: black;}#sk-container-id-3 div.sk-toggleable__content {max-height: 0;max-width: 0;overflow: hidden;text-align: left;background-color: #f0f8ff;}#sk-container-id-3 div.sk-toggleable__content pre {margin: 0.2em;color: black;border-radius: 0.25em;background-color: #f0f8ff;}#sk-container-id-3 input.sk-toggleable__control:checked~div.sk-toggleable__content {max-height: 200px;max-width: 100%;overflow: auto;}#sk-container-id-3 input.sk-toggleable__control:checked~label.sk-toggleable__label-arrow:before {content: \"▾\";}#sk-container-id-3 div.sk-estimator input.sk-toggleable__control:checked~label.sk-toggleable__label {background-color: #d4ebff;}#sk-container-id-3 div.sk-label input.sk-toggleable__control:checked~label.sk-toggleable__label {background-color: #d4ebff;}#sk-container-id-3 input.sk-hidden--visually {border: 0;clip: rect(1px 1px 1px 1px);clip: rect(1px, 1px, 1px, 1px);height: 1px;margin: -1px;overflow: hidden;padding: 0;position: absolute;width: 1px;}#sk-container-id-3 div.sk-estimator {font-family: monospace;background-color: #f0f8ff;border: 1px dotted black;border-radius: 0.25em;box-sizing: border-box;margin-bottom: 0.5em;}#sk-container-id-3 div.sk-estimator:hover {background-color: #d4ebff;}#sk-container-id-3 div.sk-parallel-item::after {content: \"\";width: 100%;border-bottom: 1px solid gray;flex-grow: 1;}#sk-container-id-3 div.sk-label:hover label.sk-toggleable__label {background-color: #d4ebff;}#sk-container-id-3 div.sk-serial::before {content: \"\";position: absolute;border-left: 1px solid gray;box-sizing: border-box;top: 0;bottom: 0;left: 50%;z-index: 0;}#sk-container-id-3 div.sk-serial {display: flex;flex-direction: column;align-items: center;background-color: white;padding-right: 0.2em;padding-left: 0.2em;position: relative;}#sk-container-id-3 div.sk-item {position: relative;z-index: 1;}#sk-container-id-3 div.sk-parallel {display: flex;align-items: stretch;justify-content: center;background-color: white;position: relative;}#sk-container-id-3 div.sk-item::before, #sk-container-id-3 div.sk-parallel-item::before {content: \"\";position: absolute;border-left: 1px solid gray;box-sizing: border-box;top: 0;bottom: 0;left: 50%;z-index: -1;}#sk-container-id-3 div.sk-parallel-item {display: flex;flex-direction: column;z-index: 1;position: relative;background-color: white;}#sk-container-id-3 div.sk-parallel-item:first-child::after {align-self: flex-end;width: 50%;}#sk-container-id-3 div.sk-parallel-item:last-child::after {align-self: flex-start;width: 50%;}#sk-container-id-3 div.sk-parallel-item:only-child::after {width: 0;}#sk-container-id-3 div.sk-dashed-wrapped {border: 1px dashed gray;margin: 0 0.4em 0.5em 0.4em;box-sizing: border-box;padding-bottom: 0.4em;background-color: white;}#sk-container-id-3 div.sk-label label {font-family: monospace;font-weight: bold;display: inline-block;line-height: 1.2em;}#sk-container-id-3 div.sk-label-container {text-align: center;}#sk-container-id-3 div.sk-container {/* jupyter's `normalize.less` sets `[hidden] { display: none; }` but bootstrap.min.css set `[hidden] { display: none !important; }` so we also need the `!important` here to be able to override the default hidden behavior on the sphinx rendered scikit-learn.org. See: https://github.com/scikit-learn/scikit-learn/issues/21755 */display: inline-block !important;position: relative;}#sk-container-id-3 div.sk-text-repr-fallback {display: none;}</style><div id=\"sk-container-id-3\" class=\"sk-top-container\"><div class=\"sk-text-repr-fallback\"><pre>LogisticRegression()</pre><b>In a Jupyter environment, please rerun this cell to show the HTML representation or trust the notebook. <br />On GitHub, the HTML representation is unable to render, please try loading this page with nbviewer.org.</b></div><div class=\"sk-container\" hidden><div class=\"sk-item\"><div class=\"sk-estimator sk-toggleable\"><input class=\"sk-toggleable__control sk-hidden--visually\" id=\"sk-estimator-id-3\" type=\"checkbox\" checked><label for=\"sk-estimator-id-3\" class=\"sk-toggleable__label sk-toggleable__label-arrow\">LogisticRegression</label><div class=\"sk-toggleable__content\"><pre>LogisticRegression()</pre></div></div></div></div></div>"
      ],
      "text/plain": [
       "LogisticRegression()"
      ]
     },
     "execution_count": 32,
     "metadata": {},
     "output_type": "execute_result"
    }
   ],
   "source": [
    "model_3_smote_lr.fit(X_train_smote,y_train_smote)"
   ]
  },
  {
   "cell_type": "markdown",
   "id": "e40a199c",
   "metadata": {},
   "source": [
    "4. Employ the ‘predict()’ function to obtain predictions on X_test and store this in a variable labeled as ‘y_pred_smote_lr’. "
   ]
  },
  {
   "cell_type": "code",
   "execution_count": 33,
   "id": "96d7a4a3",
   "metadata": {},
   "outputs": [],
   "source": [
    "y_pred_smote_lr= model_3_smote_lr.predict(X_test)"
   ]
  },
  {
   "cell_type": "markdown",
   "id": "488da2f5",
   "metadata": {},
   "source": [
    "5. Employ the ‘accuracy_score’ function by using the ‘y_pred_lr’ and ‘y_test’ variables as the functions parameters and print the accuracy of the new Logistic Regression model.\n",
    "\n",
    "- What is your initial observation of the accuracy of model_3_smote_lr vs. accuracy of model_1_lr? What could be the reasoning for (any possible) change in accuracy?"
   ]
  },
  {
   "cell_type": "code",
   "execution_count": 34,
   "id": "1912eb1e",
   "metadata": {},
   "outputs": [
    {
     "data": {
      "text/plain": [
       "0.72"
      ]
     },
     "execution_count": 34,
     "metadata": {},
     "output_type": "execute_result"
    }
   ],
   "source": [
    "accuracy_smote_lr = accuracy_score(y_test,y_pred_smote_lr)\n",
    "accuracy_smote_lr"
   ]
  },
  {
   "cell_type": "code",
   "execution_count": 35,
   "id": "06a1b3b2",
   "metadata": {
    "scrolled": true
   },
   "outputs": [
    {
     "name": "stdout",
     "output_type": "stream",
     "text": [
      "The accuracy of LR Model is  72.0 %\n"
     ]
    }
   ],
   "source": [
    "print(\"The accuracy of LR Model is \",accuracy_smote_lr*100,\"%\")"
   ]
  },
  {
   "cell_type": "markdown",
   "id": "9c09c15f",
   "metadata": {},
   "source": [
    "### iv. Modeling SVM on a balanced dataset\n",
    "1. Employ Synthetic Minority Oversampling on X_train and y_train. Import the ‘SMOTE’ function from the ‘imblearn.over_sampling’. Use the ‘smote.refit_resample()’ function on X_train and y_train. Store them in X_train_smote, y_train_smote. \n",
    "\n",
    "- At the end of this step, your new training set i.e., (X_train_smote , y_train_smote) should have the same number of instances for each of the two classes."
   ]
  },
  {
   "cell_type": "code",
   "execution_count": 36,
   "id": "7a3e7f82",
   "metadata": {},
   "outputs": [
    {
     "data": {
      "text/plain": [
       "0    6383\n",
       "1    6383\n",
       "Name: Exited, dtype: int64"
      ]
     },
     "execution_count": 36,
     "metadata": {},
     "output_type": "execute_result"
    }
   ],
   "source": [
    "y_train_smote.value_counts()"
   ]
  },
  {
   "cell_type": "markdown",
   "id": "cb819ddf",
   "metadata": {},
   "source": [
    "2. Employ a new SVM classifier from sklearn and instantiate the model. Label this model as ‘model_4_smote_svm’"
   ]
  },
  {
   "cell_type": "code",
   "execution_count": 37,
   "id": "f7a246b1",
   "metadata": {},
   "outputs": [],
   "source": [
    "model_4_smote_svm = SVC()"
   ]
  },
  {
   "cell_type": "markdown",
   "id": "7f243689",
   "metadata": {},
   "source": [
    "3. Once instantiated, ‘fit()’ the model using the balanced X_train_smote, y_train_smote data."
   ]
  },
  {
   "cell_type": "code",
   "execution_count": 38,
   "id": "38f9d059",
   "metadata": {},
   "outputs": [
    {
     "data": {
      "text/html": [
       "<style>#sk-container-id-4 {color: black;}#sk-container-id-4 pre{padding: 0;}#sk-container-id-4 div.sk-toggleable {background-color: white;}#sk-container-id-4 label.sk-toggleable__label {cursor: pointer;display: block;width: 100%;margin-bottom: 0;padding: 0.3em;box-sizing: border-box;text-align: center;}#sk-container-id-4 label.sk-toggleable__label-arrow:before {content: \"▸\";float: left;margin-right: 0.25em;color: #696969;}#sk-container-id-4 label.sk-toggleable__label-arrow:hover:before {color: black;}#sk-container-id-4 div.sk-estimator:hover label.sk-toggleable__label-arrow:before {color: black;}#sk-container-id-4 div.sk-toggleable__content {max-height: 0;max-width: 0;overflow: hidden;text-align: left;background-color: #f0f8ff;}#sk-container-id-4 div.sk-toggleable__content pre {margin: 0.2em;color: black;border-radius: 0.25em;background-color: #f0f8ff;}#sk-container-id-4 input.sk-toggleable__control:checked~div.sk-toggleable__content {max-height: 200px;max-width: 100%;overflow: auto;}#sk-container-id-4 input.sk-toggleable__control:checked~label.sk-toggleable__label-arrow:before {content: \"▾\";}#sk-container-id-4 div.sk-estimator input.sk-toggleable__control:checked~label.sk-toggleable__label {background-color: #d4ebff;}#sk-container-id-4 div.sk-label input.sk-toggleable__control:checked~label.sk-toggleable__label {background-color: #d4ebff;}#sk-container-id-4 input.sk-hidden--visually {border: 0;clip: rect(1px 1px 1px 1px);clip: rect(1px, 1px, 1px, 1px);height: 1px;margin: -1px;overflow: hidden;padding: 0;position: absolute;width: 1px;}#sk-container-id-4 div.sk-estimator {font-family: monospace;background-color: #f0f8ff;border: 1px dotted black;border-radius: 0.25em;box-sizing: border-box;margin-bottom: 0.5em;}#sk-container-id-4 div.sk-estimator:hover {background-color: #d4ebff;}#sk-container-id-4 div.sk-parallel-item::after {content: \"\";width: 100%;border-bottom: 1px solid gray;flex-grow: 1;}#sk-container-id-4 div.sk-label:hover label.sk-toggleable__label {background-color: #d4ebff;}#sk-container-id-4 div.sk-serial::before {content: \"\";position: absolute;border-left: 1px solid gray;box-sizing: border-box;top: 0;bottom: 0;left: 50%;z-index: 0;}#sk-container-id-4 div.sk-serial {display: flex;flex-direction: column;align-items: center;background-color: white;padding-right: 0.2em;padding-left: 0.2em;position: relative;}#sk-container-id-4 div.sk-item {position: relative;z-index: 1;}#sk-container-id-4 div.sk-parallel {display: flex;align-items: stretch;justify-content: center;background-color: white;position: relative;}#sk-container-id-4 div.sk-item::before, #sk-container-id-4 div.sk-parallel-item::before {content: \"\";position: absolute;border-left: 1px solid gray;box-sizing: border-box;top: 0;bottom: 0;left: 50%;z-index: -1;}#sk-container-id-4 div.sk-parallel-item {display: flex;flex-direction: column;z-index: 1;position: relative;background-color: white;}#sk-container-id-4 div.sk-parallel-item:first-child::after {align-self: flex-end;width: 50%;}#sk-container-id-4 div.sk-parallel-item:last-child::after {align-self: flex-start;width: 50%;}#sk-container-id-4 div.sk-parallel-item:only-child::after {width: 0;}#sk-container-id-4 div.sk-dashed-wrapped {border: 1px dashed gray;margin: 0 0.4em 0.5em 0.4em;box-sizing: border-box;padding-bottom: 0.4em;background-color: white;}#sk-container-id-4 div.sk-label label {font-family: monospace;font-weight: bold;display: inline-block;line-height: 1.2em;}#sk-container-id-4 div.sk-label-container {text-align: center;}#sk-container-id-4 div.sk-container {/* jupyter's `normalize.less` sets `[hidden] { display: none; }` but bootstrap.min.css set `[hidden] { display: none !important; }` so we also need the `!important` here to be able to override the default hidden behavior on the sphinx rendered scikit-learn.org. See: https://github.com/scikit-learn/scikit-learn/issues/21755 */display: inline-block !important;position: relative;}#sk-container-id-4 div.sk-text-repr-fallback {display: none;}</style><div id=\"sk-container-id-4\" class=\"sk-top-container\"><div class=\"sk-text-repr-fallback\"><pre>SVC()</pre><b>In a Jupyter environment, please rerun this cell to show the HTML representation or trust the notebook. <br />On GitHub, the HTML representation is unable to render, please try loading this page with nbviewer.org.</b></div><div class=\"sk-container\" hidden><div class=\"sk-item\"><div class=\"sk-estimator sk-toggleable\"><input class=\"sk-toggleable__control sk-hidden--visually\" id=\"sk-estimator-id-4\" type=\"checkbox\" checked><label for=\"sk-estimator-id-4\" class=\"sk-toggleable__label sk-toggleable__label-arrow\">SVC</label><div class=\"sk-toggleable__content\"><pre>SVC()</pre></div></div></div></div></div>"
      ],
      "text/plain": [
       "SVC()"
      ]
     },
     "execution_count": 38,
     "metadata": {},
     "output_type": "execute_result"
    }
   ],
   "source": [
    "model_4_smote_svm.fit(X_train_smote,y_train_smote)"
   ]
  },
  {
   "cell_type": "markdown",
   "id": "8d693022",
   "metadata": {},
   "source": [
    "4. Employ the ‘predict()’ function to obtain predictions on X_test and store this in a variable labeled as ‘y_pred_smote_svm’.  "
   ]
  },
  {
   "cell_type": "code",
   "execution_count": 39,
   "id": "b5b2d12d",
   "metadata": {},
   "outputs": [],
   "source": [
    "y_pred_smote_svm = model_4_smote_svm.predict(X_test)"
   ]
  },
  {
   "cell_type": "markdown",
   "id": "bcdc3bdf",
   "metadata": {},
   "source": [
    "5. Employ the ‘accuracy_score’ function (‘sklearn.metrics.accuracy()’ function) by using the ‘y_pred_lr’ and ‘y_test’ variables as the functions parameters and print the accuracy of the new SVM model. \n",
    "\n",
    "- What is your initial observation of the accuracy of model_4_smote_svm vs. accuracy of model_2_svm? What could be the reasoning for (any possible) change in accuracy? "
   ]
  },
  {
   "cell_type": "code",
   "execution_count": 40,
   "id": "eb57749e",
   "metadata": {},
   "outputs": [
    {
     "data": {
      "text/plain": [
       "0.7815"
      ]
     },
     "execution_count": 40,
     "metadata": {},
     "output_type": "execute_result"
    }
   ],
   "source": [
    "accuracy_smote_svm = accuracy_score(y_test,y_pred_smote_svm)\n",
    "accuracy_smote_svm"
   ]
  },
  {
   "cell_type": "code",
   "execution_count": 41,
   "id": "c80b4ad5",
   "metadata": {},
   "outputs": [
    {
     "name": "stdout",
     "output_type": "stream",
     "text": [
      "The accuracy of SVM Model is  78.14999999999999 %\n"
     ]
    }
   ],
   "source": [
    "print(\"The accuracy of SVM Model is \",accuracy_smote_svm*100,\"%\")"
   ]
  },
  {
   "cell_type": "markdown",
   "id": "f0a63962",
   "metadata": {},
   "source": [
    "### Modeling Grid Search Parameter Selection for SVM \n",
    "1. We will now be reverting to our X_train and y_train data. Initialize a variable labeled as ‘param_grid’ storing the following: {\"gamma\": [0.001, 0.01, 0.1], \"C\": [1,10,100,1000,10000]}."
   ]
  },
  {
   "cell_type": "code",
   "execution_count": 42,
   "id": "45aee4ef",
   "metadata": {},
   "outputs": [],
   "source": [
    "param_grid =  {\"gamma\": [0.001, 0.01, 0.1], \"C\": [1,10,100,1000,10000]}"
   ]
  },
  {
   "cell_type": "markdown",
   "id": "0129977f",
   "metadata": {},
   "source": [
    "2. Employ the gridsearchCV function and initialize the following parameters: estimator = SVC(), param_grid = param_grid, cv=5, verbose =1, scoring = ‘accuracy’"
   ]
  },
  {
   "cell_type": "code",
   "execution_count": 43,
   "id": "94ee1def",
   "metadata": {},
   "outputs": [],
   "source": [
    "g = GridSearchCV(estimator = SVC(), param_grid = param_grid, cv=5, verbose =1, scoring = 'accuracy')"
   ]
  },
  {
   "cell_type": "markdown",
   "id": "dc284419",
   "metadata": {},
   "source": [
    "3.  Once instantiated, ‘fit()’ the model using the X_train_smote, y_train_smote data."
   ]
  },
  {
   "cell_type": "code",
   "execution_count": 44,
   "id": "7697456c",
   "metadata": {
    "scrolled": true
   },
   "outputs": [
    {
     "name": "stdout",
     "output_type": "stream",
     "text": [
      "Fitting 5 folds for each of 15 candidates, totalling 75 fits\n"
     ]
    },
    {
     "data": {
      "text/html": [
       "<style>#sk-container-id-5 {color: black;}#sk-container-id-5 pre{padding: 0;}#sk-container-id-5 div.sk-toggleable {background-color: white;}#sk-container-id-5 label.sk-toggleable__label {cursor: pointer;display: block;width: 100%;margin-bottom: 0;padding: 0.3em;box-sizing: border-box;text-align: center;}#sk-container-id-5 label.sk-toggleable__label-arrow:before {content: \"▸\";float: left;margin-right: 0.25em;color: #696969;}#sk-container-id-5 label.sk-toggleable__label-arrow:hover:before {color: black;}#sk-container-id-5 div.sk-estimator:hover label.sk-toggleable__label-arrow:before {color: black;}#sk-container-id-5 div.sk-toggleable__content {max-height: 0;max-width: 0;overflow: hidden;text-align: left;background-color: #f0f8ff;}#sk-container-id-5 div.sk-toggleable__content pre {margin: 0.2em;color: black;border-radius: 0.25em;background-color: #f0f8ff;}#sk-container-id-5 input.sk-toggleable__control:checked~div.sk-toggleable__content {max-height: 200px;max-width: 100%;overflow: auto;}#sk-container-id-5 input.sk-toggleable__control:checked~label.sk-toggleable__label-arrow:before {content: \"▾\";}#sk-container-id-5 div.sk-estimator input.sk-toggleable__control:checked~label.sk-toggleable__label {background-color: #d4ebff;}#sk-container-id-5 div.sk-label input.sk-toggleable__control:checked~label.sk-toggleable__label {background-color: #d4ebff;}#sk-container-id-5 input.sk-hidden--visually {border: 0;clip: rect(1px 1px 1px 1px);clip: rect(1px, 1px, 1px, 1px);height: 1px;margin: -1px;overflow: hidden;padding: 0;position: absolute;width: 1px;}#sk-container-id-5 div.sk-estimator {font-family: monospace;background-color: #f0f8ff;border: 1px dotted black;border-radius: 0.25em;box-sizing: border-box;margin-bottom: 0.5em;}#sk-container-id-5 div.sk-estimator:hover {background-color: #d4ebff;}#sk-container-id-5 div.sk-parallel-item::after {content: \"\";width: 100%;border-bottom: 1px solid gray;flex-grow: 1;}#sk-container-id-5 div.sk-label:hover label.sk-toggleable__label {background-color: #d4ebff;}#sk-container-id-5 div.sk-serial::before {content: \"\";position: absolute;border-left: 1px solid gray;box-sizing: border-box;top: 0;bottom: 0;left: 50%;z-index: 0;}#sk-container-id-5 div.sk-serial {display: flex;flex-direction: column;align-items: center;background-color: white;padding-right: 0.2em;padding-left: 0.2em;position: relative;}#sk-container-id-5 div.sk-item {position: relative;z-index: 1;}#sk-container-id-5 div.sk-parallel {display: flex;align-items: stretch;justify-content: center;background-color: white;position: relative;}#sk-container-id-5 div.sk-item::before, #sk-container-id-5 div.sk-parallel-item::before {content: \"\";position: absolute;border-left: 1px solid gray;box-sizing: border-box;top: 0;bottom: 0;left: 50%;z-index: -1;}#sk-container-id-5 div.sk-parallel-item {display: flex;flex-direction: column;z-index: 1;position: relative;background-color: white;}#sk-container-id-5 div.sk-parallel-item:first-child::after {align-self: flex-end;width: 50%;}#sk-container-id-5 div.sk-parallel-item:last-child::after {align-self: flex-start;width: 50%;}#sk-container-id-5 div.sk-parallel-item:only-child::after {width: 0;}#sk-container-id-5 div.sk-dashed-wrapped {border: 1px dashed gray;margin: 0 0.4em 0.5em 0.4em;box-sizing: border-box;padding-bottom: 0.4em;background-color: white;}#sk-container-id-5 div.sk-label label {font-family: monospace;font-weight: bold;display: inline-block;line-height: 1.2em;}#sk-container-id-5 div.sk-label-container {text-align: center;}#sk-container-id-5 div.sk-container {/* jupyter's `normalize.less` sets `[hidden] { display: none; }` but bootstrap.min.css set `[hidden] { display: none !important; }` so we also need the `!important` here to be able to override the default hidden behavior on the sphinx rendered scikit-learn.org. See: https://github.com/scikit-learn/scikit-learn/issues/21755 */display: inline-block !important;position: relative;}#sk-container-id-5 div.sk-text-repr-fallback {display: none;}</style><div id=\"sk-container-id-5\" class=\"sk-top-container\"><div class=\"sk-text-repr-fallback\"><pre>GridSearchCV(cv=5, estimator=SVC(),\n",
       "             param_grid={&#x27;C&#x27;: [1, 10, 100, 1000, 10000],\n",
       "                         &#x27;gamma&#x27;: [0.001, 0.01, 0.1]},\n",
       "             scoring=&#x27;accuracy&#x27;, verbose=1)</pre><b>In a Jupyter environment, please rerun this cell to show the HTML representation or trust the notebook. <br />On GitHub, the HTML representation is unable to render, please try loading this page with nbviewer.org.</b></div><div class=\"sk-container\" hidden><div class=\"sk-item sk-dashed-wrapped\"><div class=\"sk-label-container\"><div class=\"sk-label sk-toggleable\"><input class=\"sk-toggleable__control sk-hidden--visually\" id=\"sk-estimator-id-5\" type=\"checkbox\" ><label for=\"sk-estimator-id-5\" class=\"sk-toggleable__label sk-toggleable__label-arrow\">GridSearchCV</label><div class=\"sk-toggleable__content\"><pre>GridSearchCV(cv=5, estimator=SVC(),\n",
       "             param_grid={&#x27;C&#x27;: [1, 10, 100, 1000, 10000],\n",
       "                         &#x27;gamma&#x27;: [0.001, 0.01, 0.1]},\n",
       "             scoring=&#x27;accuracy&#x27;, verbose=1)</pre></div></div></div><div class=\"sk-parallel\"><div class=\"sk-parallel-item\"><div class=\"sk-item\"><div class=\"sk-label-container\"><div class=\"sk-label sk-toggleable\"><input class=\"sk-toggleable__control sk-hidden--visually\" id=\"sk-estimator-id-6\" type=\"checkbox\" ><label for=\"sk-estimator-id-6\" class=\"sk-toggleable__label sk-toggleable__label-arrow\">estimator: SVC</label><div class=\"sk-toggleable__content\"><pre>SVC()</pre></div></div></div><div class=\"sk-serial\"><div class=\"sk-item\"><div class=\"sk-estimator sk-toggleable\"><input class=\"sk-toggleable__control sk-hidden--visually\" id=\"sk-estimator-id-7\" type=\"checkbox\" ><label for=\"sk-estimator-id-7\" class=\"sk-toggleable__label sk-toggleable__label-arrow\">SVC</label><div class=\"sk-toggleable__content\"><pre>SVC()</pre></div></div></div></div></div></div></div></div></div></div>"
      ],
      "text/plain": [
       "GridSearchCV(cv=5, estimator=SVC(),\n",
       "             param_grid={'C': [1, 10, 100, 1000, 10000],\n",
       "                         'gamma': [0.001, 0.01, 0.1]},\n",
       "             scoring='accuracy', verbose=1)"
      ]
     },
     "execution_count": 44,
     "metadata": {},
     "output_type": "execute_result"
    }
   ],
   "source": [
    "g.fit(X_train_smote,y_train_smote)"
   ]
  },
  {
   "cell_type": "markdown",
   "id": "6d6537ff",
   "metadata": {},
   "source": [
    "4. Print the best paramaters using the **‘best_params_’** attribute and print the mean cross validated score of the best estimator (hint use the ‘best_score_’ attribute)."
   ]
  },
  {
   "cell_type": "code",
   "execution_count": 45,
   "id": "a759b578",
   "metadata": {},
   "outputs": [
    {
     "name": "stdout",
     "output_type": "stream",
     "text": [
      "Best Parameters:\n",
      "{'C': 10000, 'gamma': 0.1}\n",
      "Best Cross-validated Accuracy Score:\n",
      "0.8249274196739383\n"
     ]
    }
   ],
   "source": [
    "print(\"Best Parameters:\")\n",
    "print(g.best_params_)\n",
    "print(\"Best Cross-validated Accuracy Score:\")\n",
    "print(g.best_score_)"
   ]
  },
  {
   "cell_type": "markdown",
   "id": "a7d0136b",
   "metadata": {},
   "source": [
    "5. Employ the ‘score’ function by using the ‘X_test’ and ‘y_test’ variables as the functions parameters and print the accuracy of the new gridsearch SVM model.SVM model."
   ]
  },
  {
   "cell_type": "code",
   "execution_count": 46,
   "id": "8cb3c0f3",
   "metadata": {},
   "outputs": [
    {
     "data": {
      "text/plain": [
       "0.785"
      ]
     },
     "execution_count": 46,
     "metadata": {},
     "output_type": "execute_result"
    }
   ],
   "source": [
    "accuracy_smote_gsvm = g.score(X_test,y_test)\n",
    "accuracy_smote_gsvm"
   ]
  },
  {
   "cell_type": "code",
   "execution_count": 47,
   "id": "c7ed1236",
   "metadata": {},
   "outputs": [
    {
     "name": "stdout",
     "output_type": "stream",
     "text": [
      "The accuracy of the new gridsearch SVM Model is  78.5 %\n"
     ]
    }
   ],
   "source": [
    "print(\"The accuracy of the new gridsearch SVM Model is \",accuracy_smote_gsvm*100,\"%\")"
   ]
  },
  {
   "cell_type": "markdown",
   "id": "02c972f8",
   "metadata": {},
   "source": [
    "### d. Evaluation\n",
    "1. (2 points) Calculate F1 Score, Precision, Recall, Accuracy (All on the test set X_test, y_test) .\n",
    "\n",
    "- Employ the `classification_report()` function from sklearn.metrics to report the precision recall, f1 score and accuracy for each class for the first **four models (parts c.i – c.iv).**"
   ]
  },
  {
   "cell_type": "code",
   "execution_count": 48,
   "id": "8abd484c",
   "metadata": {},
   "outputs": [
    {
     "name": "stdout",
     "output_type": "stream",
     "text": [
      "0.802 0.8175 0.72 0.7815\n",
      "Classification Report for Logistic Regression Model\n",
      "              precision    recall  f1-score   support\n",
      "\n",
      "           0       0.82      0.96      0.88      1580\n",
      "           1       0.58      0.20      0.30       420\n",
      "\n",
      "    accuracy                           0.80      2000\n",
      "   macro avg       0.70      0.58      0.59      2000\n",
      "weighted avg       0.77      0.80      0.76      2000\n",
      "\n",
      "Classification Report for SVM Model\n",
      "              precision    recall  f1-score   support\n",
      "\n",
      "           0       0.82      0.99      0.90      1580\n",
      "           1       0.80      0.18      0.29       420\n",
      "\n",
      "    accuracy                           0.82      2000\n",
      "   macro avg       0.81      0.58      0.59      2000\n",
      "weighted avg       0.81      0.82      0.77      2000\n",
      "\n",
      "Classification Report for Logistic Regression on Balanced Dataset\n",
      "              precision    recall  f1-score   support\n",
      "\n",
      "           0       0.90      0.73      0.80      1580\n",
      "           1       0.40      0.70      0.51       420\n",
      "\n",
      "    accuracy                           0.72      2000\n",
      "   macro avg       0.65      0.71      0.66      2000\n",
      "weighted avg       0.80      0.72      0.74      2000\n",
      "\n",
      "Classification Report for SVM Model on Balanced Dataset\n",
      "              precision    recall  f1-score   support\n",
      "\n",
      "           0       0.90      0.82      0.86      1580\n",
      "           1       0.48      0.64      0.55       420\n",
      "\n",
      "    accuracy                           0.78      2000\n",
      "   macro avg       0.69      0.73      0.70      2000\n",
      "weighted avg       0.81      0.78      0.79      2000\n",
      "\n"
     ]
    }
   ],
   "source": [
    "print(accuracy_lr,accuracy_svm,accuracy_smote_lr,accuracy_smote_svm)\n",
    "\n",
    "print('Classification Report for Logistic Regression Model')\n",
    "print(classification_report(y_test, y_pred_lr))\n",
    "\n",
    "print('Classification Report for SVM Model')\n",
    "print(classification_report(y_test, y_pred_svm))\n",
    "\n",
    "print('Classification Report for Logistic Regression on Balanced Dataset')\n",
    "print(classification_report(y_test, y_pred_smote_lr))\n",
    "\n",
    "print('Classification Report for SVM Model on Balanced Dataset')\n",
    "print(classification_report(y_test, y_pred_smote_svm))"
   ]
  },
  {
   "cell_type": "markdown",
   "id": "42a2aad9",
   "metadata": {},
   "source": [
    "2. Visualize a confusion matrix for the first four models \n",
    "\n",
    "- Employ the `confusion_matrix()` function from sklearn.metrics to report the confusion matrix results.\n",
    "- Report the False Negative and False Positive values for model_1_lr."
   ]
  },
  {
   "cell_type": "code",
   "execution_count": 49,
   "id": "02bf9706",
   "metadata": {},
   "outputs": [
    {
     "data": {
      "image/png": "[encoded data removed]",
      "text/plain": [
       "<Figure size 640x480 with 2 Axes>"
      ]
     },
     "metadata": {},
     "output_type": "display_data"
    },
    {
     "data": {
      "image/png": "[encoded data removed]",
      "text/plain": [
       "<Figure size 640x480 with 2 Axes>"
      ]
     },
     "metadata": {},
     "output_type": "display_data"
    },
    {
     "data": {
      "image/png": "[encoded data removed]",
      "text/plain": [
       "<Figure size 640x480 with 2 Axes>"
      ]
     },
     "metadata": {},
     "output_type": "display_data"
    },
    {
     "data": {
      "image/png": "[encoded data removed]",
      "text/plain": [
       "<Figure size 640x480 with 2 Axes>"
      ]
     },
     "metadata": {},
     "output_type": "display_data"
    }
   ],
   "source": [
    "from sklearn.metrics import confusion_matrix\n",
    "import seaborn as sns\n",
    "\n",
    "confm_lr = confusion_matrix(y_test, y_pred_lr)\n",
    "sns.heatmap(confm_lr, annot=True, cmap='Blues')\n",
    "plt.title('Confusion Matrix for Logistic Regression Model')\n",
    "plt.show()\n",
    "\n",
    "confm_svm = confusion_matrix(y_test, y_pred_svm)\n",
    "sns.heatmap(confm_svm, annot=True, cmap='Blues')\n",
    "plt.title('Confusion Matrix for SVM Model')\n",
    "plt.show()\n",
    "\n",
    "confm_lr_smote = confusion_matrix(y_test, y_pred_smote_lr)\n",
    "sns.heatmap(confm_lr_smote, annot=True, cmap='Blues')\n",
    "plt.title('Confusion Matrix for Logistic Regression Model on Balanced Dataset')\n",
    "plt.show()\n",
    "\n",
    "confm_svm_smote = confusion_matrix(y_test, y_pred_smote_svm)\n",
    "sns.heatmap(confm_svm_smote, annot=True, cmap='Blues')\n",
    "plt.title('Confusion Matrix for SVM Model on Balanced Dataset')\n",
    "plt.show()"
   ]
  },
  {
   "cell_type": "code",
   "execution_count": 50,
   "id": "28414674",
   "metadata": {},
   "outputs": [
    {
     "name": "stdout",
     "output_type": "stream",
     "text": [
      "60\n",
      "336\n"
     ]
    }
   ],
   "source": [
    "#the False Negative and False Positive values for model_1_lr\n",
    "tn, fp, fn, tp = confm_lr.ravel()\n",
    "print(fp)\n",
    "print(fn)"
   ]
  },
  {
   "cell_type": "markdown",
   "id": "6377f6df",
   "metadata": {},
   "source": [
    "3. Report the best F1 score of the grid search implemented in the fifth model **(part c.v)**. Also report the best parameters from the grid search on the training set. "
   ]
  },
  {
   "cell_type": "code",
   "execution_count": 51,
   "id": "d6308c54",
   "metadata": {},
   "outputs": [
    {
     "name": "stdout",
     "output_type": "stream",
     "text": [
      "Best F1 Score: 0.8249274196739383\n",
      "Best Parameters:\n",
      "C: 10000\n",
      "gamma: 0.1\n"
     ]
    }
   ],
   "source": [
    "from sklearn.metrics import make_scorer, f1_score\n",
    "f1_scorer = make_scorer(f1_score)\n",
    "\n",
    "best_f1_score = g.best_score_\n",
    "best_params = g.best_params_\n",
    "\n",
    "print(f\"Best F1 Score: {best_f1_score}\")\n",
    "print(\"Best Parameters:\")\n",
    "for param, value in best_params.items():\n",
    "    print(f\"{param}: {value}\")"
   ]
  }
 ],
 "metadata": {
  "kernelspec": {
   "display_name": "Python 3 (ipykernel)",
   "language": "python",
   "name": "python3"
  },
  "language_info": {
   "codemirror_mode": {
    "name": "ipython",
    "version": 3
   },
   "file_extension": ".py",
   "mimetype": "text/x-python",
   "name": "python",
   "nbconvert_exporter": "python",
   "pygments_lexer": "ipython3",
   "version": "3.11.4"
  }
 },
 "nbformat": 4,
 "nbformat_minor": 5
}
