{
 "cells": [
  {
   "cell_type": "code",
   "execution_count": 1,
   "metadata": {},
   "outputs": [],
   "source": [
    "#importing the required libraries\n",
    "import numpy as np\n",
    "import pandas as pd\n",
    "import matplotlib.pyplot as plt\n",
    "from sklearn.datasets import load_iris\n",
    "from sklearn.decomposition import PCA"
   ]
  },
  {
   "cell_type": "code",
   "execution_count": 2,
   "metadata": {},
   "outputs": [
    {
     "data": {
      "text/html": [
       "<div>\n",
       "<style scoped>\n",
       "    .dataframe tbody tr th:only-of-type {\n",
       "        vertical-align: middle;\n",
       "    }\n",
       "\n",
       "    .dataframe tbody tr th {\n",
       "        vertical-align: top;\n",
       "    }\n",
       "\n",
       "    .dataframe thead th {\n",
       "        text-align: right;\n",
       "    }\n",
       "</style>\n",
       "<table border=\"1\" class=\"dataframe\">\n",
       "  <thead>\n",
       "    <tr style=\"text-align: right;\">\n",
       "      <th></th>\n",
       "      <th>0</th>\n",
       "    </tr>\n",
       "  </thead>\n",
       "  <tbody>\n",
       "    <tr>\n",
       "      <th>0</th>\n",
       "      <td>13.266400</td>\n",
       "    </tr>\n",
       "    <tr>\n",
       "      <th>1</th>\n",
       "      <td>7.310945</td>\n",
       "    </tr>\n",
       "    <tr>\n",
       "      <th>2</th>\n",
       "      <td>4.689716</td>\n",
       "    </tr>\n",
       "    <tr>\n",
       "      <th>3</th>\n",
       "      <td>0.890135</td>\n",
       "    </tr>\n",
       "    <tr>\n",
       "      <th>4</th>\n",
       "      <td>0.516667</td>\n",
       "    </tr>\n",
       "  </tbody>\n",
       "</table>\n",
       "</div>"
      ],
      "text/plain": [
       "           0\n",
       "0  13.266400\n",
       "1   7.310945\n",
       "2   4.689716\n",
       "3   0.890135\n",
       "4   0.516667"
      ]
     },
     "execution_count": 2,
     "metadata": {},
     "output_type": "execute_result"
    }
   ],
   "source": [
    "#load the array into a variable and converting them to a dataframe\n",
    "arr = np.load('S_new.npy')\n",
    "data_f = pd.DataFrame(arr)\n",
    "data_f.head()"
   ]
  },
  {
   "cell_type": "code",
   "execution_count": 3,
   "metadata": {},
   "outputs": [
    {
     "data": {
      "text/html": [
       "<div>\n",
       "<style scoped>\n",
       "    .dataframe tbody tr th:only-of-type {\n",
       "        vertical-align: middle;\n",
       "    }\n",
       "\n",
       "    .dataframe tbody tr th {\n",
       "        vertical-align: top;\n",
       "    }\n",
       "\n",
       "    .dataframe thead th {\n",
       "        text-align: right;\n",
       "    }\n",
       "</style>\n",
       "<table border=\"1\" class=\"dataframe\">\n",
       "  <thead>\n",
       "    <tr style=\"text-align: right;\">\n",
       "      <th></th>\n",
       "      <th>0</th>\n",
       "      <th>1</th>\n",
       "      <th>2</th>\n",
       "      <th>3</th>\n",
       "      <th>4</th>\n",
       "    </tr>\n",
       "  </thead>\n",
       "  <tbody>\n",
       "    <tr>\n",
       "      <th>0</th>\n",
       "      <td>-0.423445</td>\n",
       "      <td>0.556656</td>\n",
       "      <td>-0.241025</td>\n",
       "      <td>0.330546</td>\n",
       "      <td>-0.245622</td>\n",
       "    </tr>\n",
       "    <tr>\n",
       "      <th>1</th>\n",
       "      <td>-0.506993</td>\n",
       "      <td>-0.477910</td>\n",
       "      <td>-0.164953</td>\n",
       "      <td>0.379532</td>\n",
       "      <td>0.583310</td>\n",
       "    </tr>\n",
       "    <tr>\n",
       "      <th>2</th>\n",
       "      <td>-0.373355</td>\n",
       "      <td>0.506098</td>\n",
       "      <td>-0.191829</td>\n",
       "      <td>-0.473431</td>\n",
       "      <td>0.385749</td>\n",
       "    </tr>\n",
       "    <tr>\n",
       "      <th>3</th>\n",
       "      <td>-0.344477</td>\n",
       "      <td>0.128204</td>\n",
       "      <td>0.633886</td>\n",
       "      <td>0.412236</td>\n",
       "      <td>-0.237219</td>\n",
       "    </tr>\n",
       "    <tr>\n",
       "      <th>4</th>\n",
       "      <td>-0.424225</td>\n",
       "      <td>-0.407911</td>\n",
       "      <td>-0.386011</td>\n",
       "      <td>-0.252589</td>\n",
       "      <td>-0.627057</td>\n",
       "    </tr>\n",
       "  </tbody>\n",
       "</table>\n",
       "</div>"
      ],
      "text/plain": [
       "          0         1         2         3         4\n",
       "0 -0.423445  0.556656 -0.241025  0.330546 -0.245622\n",
       "1 -0.506993 -0.477910 -0.164953  0.379532  0.583310\n",
       "2 -0.373355  0.506098 -0.191829 -0.473431  0.385749\n",
       "3 -0.344477  0.128204  0.633886  0.412236 -0.237219\n",
       "4 -0.424225 -0.407911 -0.386011 -0.252589 -0.627057"
      ]
     },
     "execution_count": 3,
     "metadata": {},
     "output_type": "execute_result"
    }
   ],
   "source": [
    "#load the array into a variable and converting them to a dataframe\n",
    "arr1 = np.load('U_new.npy')\n",
    "data1_f = pd.DataFrame(arr1)\n",
    "data1_f.head()"
   ]
  },
  {
   "cell_type": "code",
   "execution_count": 4,
   "metadata": {},
   "outputs": [
    {
     "data": {
      "text/html": [
       "<div>\n",
       "<style scoped>\n",
       "    .dataframe tbody tr th:only-of-type {\n",
       "        vertical-align: middle;\n",
       "    }\n",
       "\n",
       "    .dataframe tbody tr th {\n",
       "        vertical-align: top;\n",
       "    }\n",
       "\n",
       "    .dataframe thead th {\n",
       "        text-align: right;\n",
       "    }\n",
       "</style>\n",
       "<table border=\"1\" class=\"dataframe\">\n",
       "  <thead>\n",
       "    <tr style=\"text-align: right;\">\n",
       "      <th></th>\n",
       "      <th>0</th>\n",
       "      <th>1</th>\n",
       "      <th>2</th>\n",
       "      <th>3</th>\n",
       "      <th>4</th>\n",
       "    </tr>\n",
       "  </thead>\n",
       "  <tbody>\n",
       "    <tr>\n",
       "      <th>0</th>\n",
       "      <td>-0.433991</td>\n",
       "      <td>-0.406137</td>\n",
       "      <td>-0.424654</td>\n",
       "      <td>-0.461054</td>\n",
       "      <td>-0.503789</td>\n",
       "    </tr>\n",
       "    <tr>\n",
       "      <th>1</th>\n",
       "      <td>0.559634</td>\n",
       "      <td>0.538641</td>\n",
       "      <td>-0.087827</td>\n",
       "      <td>-0.380015</td>\n",
       "      <td>-0.494521</td>\n",
       "    </tr>\n",
       "    <tr>\n",
       "      <th>2</th>\n",
       "      <td>-0.078209</td>\n",
       "      <td>-0.208129</td>\n",
       "      <td>0.894477</td>\n",
       "      <td>-0.305012</td>\n",
       "      <td>-0.239675</td>\n",
       "    </tr>\n",
       "    <tr>\n",
       "      <th>3</th>\n",
       "      <td>0.425915</td>\n",
       "      <td>-0.488806</td>\n",
       "      <td>-0.011195</td>\n",
       "      <td>0.579464</td>\n",
       "      <td>-0.493722</td>\n",
       "    </tr>\n",
       "    <tr>\n",
       "      <th>4</th>\n",
       "      <td>-0.557621</td>\n",
       "      <td>0.512514</td>\n",
       "      <td>0.108355</td>\n",
       "      <td>0.462824</td>\n",
       "      <td>-0.447705</td>\n",
       "    </tr>\n",
       "  </tbody>\n",
       "</table>\n",
       "</div>"
      ],
      "text/plain": [
       "          0         1         2         3         4\n",
       "0 -0.433991 -0.406137 -0.424654 -0.461054 -0.503789\n",
       "1  0.559634  0.538641 -0.087827 -0.380015 -0.494521\n",
       "2 -0.078209 -0.208129  0.894477 -0.305012 -0.239675\n",
       "3  0.425915 -0.488806 -0.011195  0.579464 -0.493722\n",
       "4 -0.557621  0.512514  0.108355  0.462824 -0.447705"
      ]
     },
     "execution_count": 4,
     "metadata": {},
     "output_type": "execute_result"
    }
   ],
   "source": [
    "#load the array into a variable and converting them to a dataframe\n",
    "arr2 = np.load('V_transpose_new.npy')\n",
    "data2_f = pd.DataFrame(arr2)\n",
    "data2_f.head()"
   ]
  },
  {
   "cell_type": "code",
   "execution_count": 5,
   "metadata": {},
   "outputs": [
    {
     "data": {
      "image/png": "[encoded data removed]",
      "text/plain": [
       "<Figure size 640x480 with 1 Axes>"
      ]
     },
     "metadata": {},
     "output_type": "display_data"
    }
   ],
   "source": [
    "# (1 point) a) Include a 2D scatter plot (i.e., PCA with 2 components) where each point is colored by the class\n",
    "#(i.e., category) to which it belongs.\n",
    "\n",
    "iris = load_iris()\n",
    "X = iris.data\n",
    "Y = iris.target\n",
    "target_names = iris.target_names\n",
    "pca = PCA(n_components=2)\n",
    "X_pca = pca.fit_transform(X)\n",
    "plt.figure()\n",
    "colors = ['red', 'green', 'blue']\n",
    "lw = 3\n",
    "\n",
    "for color, i, target_name in zip(colors, [0, 1, 2], target_names):\n",
    "    plt.scatter(X_pca[Y == i, 0], X_pca[Y == i, 1], color=color, alpha=.8, lw=lw,\n",
    "                label=target_name)\n",
    "plt.legend(loc='best', shadow=False, scatterpoints=1)\n",
    "plt.title('PCA - IRIS dataset')\n",
    "plt.show()"
   ]
  },
  {
   "cell_type": "code",
   "execution_count": 6,
   "metadata": {},
   "outputs": [
    {
     "name": "stdout",
     "output_type": "stream",
     "text": [
      "Total percentage of variance captured : 97.77%\n"
     ]
    }
   ],
   "source": [
    "# (1 point) b) What is the total percentage of variance captured by the first 2 components of PCA?\n",
    "variance_ratio = pca.explained_variance_ratio_\n",
    "total_variance_ratio = sum(variance_ratio[:2])\n",
    "print(f'Total percentage of variance captured : {total_variance_ratio:.2%}')"
   ]
  },
  {
   "cell_type": "code",
   "execution_count": 7,
   "metadata": {},
   "outputs": [
    {
     "name": "stdout",
     "output_type": "stream",
     "text": [
      "Strength of PC1: [ 0.36138659 -0.08452251  0.85667061  0.3582892 ]\n",
      "Strength of PC2: [ 0.65658877  0.73016143 -0.17337266 -0.07548102]\n"
     ]
    }
   ],
   "source": [
    "#(1 point) c) What is the strength of each of the two principal components?\n",
    "\n",
    "loadings = pca.components_\n",
    "\n",
    "# Strength of each principal component\n",
    "for i, loading in enumerate(loadings):\n",
    "    print(f'Strength of PC{i+1}: {loading}')"
   ]
  },
  {
   "cell_type": "code",
   "execution_count": 8,
   "metadata": {},
   "outputs": [
    {
     "name": "stdout",
     "output_type": "stream",
     "text": [
      "Magnitude of PC1: 4.23\n",
      "Magnitude of PC2: 0.24\n"
     ]
    }
   ],
   "source": [
    "# d) (1 point) What is the magnitude of each of the two principal components?\n",
    "# Magnitude of each principal component\n",
    "print(f'Magnitude of PC1: {pca.explained_variance_[0]:.2f}')\n",
    "print(f'Magnitude of PC2: {pca.explained_variance_[1]:.2f}')"
   ]
  }
 ],
 "metadata": {
  "colab": {
   "provenance": []
  },
  "kernelspec": {
   "display_name": "Python 3 (ipykernel)",
   "language": "python",
   "name": "python3"
  },
  "language_info": {
   "codemirror_mode": {
    "name": "ipython",
    "version": 3
   },
   "file_extension": ".py",
   "mimetype": "text/x-python",
   "name": "python",
   "nbconvert_exporter": "python",
   "pygments_lexer": "ipython3",
   "version": "3.11.4"
  }
 },
 "nbformat": 4,
 "nbformat_minor": 1
}
